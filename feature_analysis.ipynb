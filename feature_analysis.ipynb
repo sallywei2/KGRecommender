{
 "cells": [
  {
   "cell_type": "code",
   "execution_count": 1,
   "metadata": {},
   "outputs": [],
   "source": [
    "import pandas as pd\n",
    "from app.utils.dataset_parser import DatasetParser"
   ]
  },
  {
   "cell_type": "code",
   "execution_count": 3,
   "metadata": {},
   "outputs": [
    {
     "name": "stdout",
     "output_type": "stream",
     "text": [
      "Loaded parsed dataset from file: saved_dictionary_5.pkl\n"
     ]
    }
   ],
   "source": [
    "file_path = \"../merged_datasets2.csv\"\n",
    "parsed_dataset = DatasetParser()\n",
    "# to pick up from where a previous run\n",
    "\n",
    "i = 0\n",
    "parsed_dataset.load_from_file('saved_dictionary_5.pkl')"
   ]
  },
  {
   "cell_type": "code",
   "execution_count": 6,
   "metadata": {},
   "outputs": [
    {
     "name": "stdout",
     "output_type": "stream",
     "text": [
      "2\n",
      "    title: ('X Rocker, 3002901, Pocket Pro Mini Wireless Controller 5.51 x 4.72 x 2.01, Red/Black',)\n",
      "    average_rating: (3.0,)\n",
      "    rating_number: (1,)\n",
      "    store: ('X Rocker',)\n",
      "    parent_asin: ('B08J3KWKQX',)\n",
      "    images: ('[{\"thumb\": \"https://m.media-amazon.com/images/I/41OkYc-CkLL._AC_US40_.jpg\", \"large\": \"https://m.media-amazon.com/images/I/41OkYc-CkLL._AC_.jpg\", \"variant\": \"MAIN\", \"hi_res\": \"https://m.media-amazon.com/images/I/81laf54LWsL._AC_SL1500_.jpg\"}, {\"thumb\": \"https://m.media-amazon.com/images/I/51OYQ3T4NgL._AC_US40_.jpg\", \"large\": \"https://m.media-amazon.com/images/I/51OYQ3T4NgL._AC_.jpg\", \"variant\": \"PT06\", \"hi_res\": \"https://m.media-amazon.com/images/I/71uz6SnqvBL._AC_SL1500_.jpg\"}]',)\n",
      "    package_dimensions: ('6.22 x 6.14 x 2.32 inches',)\n",
      "    package_weight: ('0.22 Kilograms',)\n",
      "    item_dimensions: ('5.51 x 4.72 x 2.01 inches',)\n",
      "    item_weight: ('0.27 Pounds',)\n",
      "    brand: ('X Rocker',)\n",
      "    warranty_description: ('90 Day Limited',)\n",
      "    model_name: ('X Rocker Gaming Pocket Pro Mini Wireless Controller, Red/Black',)\n",
      "    color: ('Red and Black',)\n",
      "    material: ('Plastic',)\n",
      "    suggested_users: ('unisex-adult',)\n",
      "    manufacturer: ('Ace Casual',)\n",
      "    model_year: ('2020',)\n",
      "    size: ('Mini',)\n",
      "    best_sellers_rank: ('nintendo switch controllers', 3476, 124693, 'video games')\n",
      "    date_first_available: ('September 15, 2020',)\n",
      "    categories: ('Nintendo Switch', 'Video Games', 'Accessories', 'Controllers')\n",
      "    description: ('Take your home gaming setup to the next level with the X Rocker Gaming Pocket Pro Mini Wireless Controller. This wireless gamepad allows you to expand your multiplayer gaming options or replace your original controller with a more advanced option. The X Rocker Gaming Pocket Pro Mini Wireless Controller features an onboard motion sensor and two vibration motors for a complete wired or wireless gaming experience. With its Polymer 300mAh battery, this controller will keep you gaming for longer. This replacement gamepad also allows you to connect to either Android devices or your PC for multiple gaming options. The Start, Turbo, Photo, Select and Home buttons allow one-touch navigation for hassle-free control. This wireless controller also features RSF High-Precision 3D analog sticks for more control during gameplay. Measuring just 5.51 x 4.72 x 2.01, this mini gamepad gives you a complete gaming experience while taking up less space for convenient storage.X Rocker is the original, state-of-the-art sound gaming chair that’s redefined home entertainment since 2005. Designed to revolutionize any media experience, X Rocker products connect with the most popular media devices, including home theater systems, MP3 players, computers and gaming consoles. X Rocker’s innovative line of sound chairs and accessories bring an unparalleled level of comfort, entertainment and interactivity to games, movies, music and more.',)\n"
     ]
    }
   ],
   "source": [
    "# step through items one by one\n",
    "print(i)\n",
    "parsed_dataset.table[i].print()\n",
    "i = i + 1"
   ]
  },
  {
   "cell_type": "code",
   "execution_count": 12,
   "metadata": {},
   "outputs": [
    {
     "name": "stdout",
     "output_type": "stream",
     "text": [
      "Key: special_features\n",
      "Values: {'Portable & Compact, One-Key Switch, Play While Charging': 1, 'Portable': 4, 'Scratch Resistant': 52, 'Anti-Slip, Scratch Res': 1, 'Waterproof, Scratch Resistant': 1, 'Scratch resistant': 8, 'Six-axis gyroscope, Mapping function, Ergonomic, Turbo functionality, Precise controls': 1, 'Light Weight': 1, 'Microphone, Stereo': 2, 'Heavy Duty Protection, Anti-Slip': 6, 'scratch resistant': 1, 'With AC Charger Storage Space': 1, 'UV Protection, Anti Glare': 1, 'Heavy Duty Protection, Waterproof': 4, 'Anti-drop, Anti-collision, Anti-shock': 1, 'Fingerprint-proof': 1, '【6-In-1 Accessories】Includes 1 x Carrying Case; 1 x Soft TPU Case Cover; 1 x HD PU Hard Case Cover; 1 x Tempered Glass Screen Protector; 1 x USB Cable; 2 x Thumb Stick Caps., 【Multiple colors】A variety of colors are available for you to choose from, so that your nintendo switch lite case is not so monotonous, you can choose a different color switch bag according to the color of your clothes or the weather., 【Portable and convenient 】Portable Handle and Lightweight Design provide a comfortable carrying anytime and anywhere. All-around zipper for maximum protection, perfect for travel! It is a very good travel case and you won’t have to wrap your switch in clothing to protect it when you travel!, 【Compatibility】 Specifically designed for Nintendo Switch Lite, not compatible with switch!!! Our switch lite case can show off the original beauty of your Switch Lite, but also provide full protection effectively protecting your device from daily scratches, shocks, and other impacts., 【Multiple Protection】Our Switch Carry case is big inside but small outside.The interior uses a soft cushioning material to protect your device from being scratched when dropped.Designed to make your new Nintendo Switch Console even more portable & travel friendly': 1, 'Anti Scratch': 1, 'Lightweight': 3, 'Anti-Slip': 11, 'Ergonomic': 1, 'DURABLE PROTECTION FOR YOUR DEVICE: Manufactured with ultra-thin, ultra-durable, stain-resistant laminate vinyl in order to effectively protect your gear from dings, scrapes, dust, and the wear and tear of everyday use! MightySkins a SOFT vinyl skin cover, is not made of rubber, silicone or plastic & it is NOT a HARD case': 1, 'Anti Glare': 1, 'Magnetic, Card Slots': 1, 'Kickstand, Heavy Duty Protection': 1, 'GOES ON AND COMES OFF EASY: Apply your MightySkins vinyl decal easily & with precision on your Nintendo Switch OLED thanks to a patented low grip air release adhesive that’s built to last but removes easily and leaves no sticky residue when you’re ready to switch to a different design!': 1, 'Card Slots': 2, 'Shock-Absorbent': 2, 'Easy to Install, Durable': 1, 'Heavy Duty Protection, Lightweight, Travel-friendly, Shockproof, Scratchprood': 1, 'SET THE TREND: Show off your own unique style with MightySkins for your XBOX Series S! Don’t like the VSCO Girl Design? We have hundreds of designs to choose from, so your XBOX Series S will be as unique as you are!': 1, 'Durable': 4, 'Game Room': 1, 'Backlit': 1, 'Noise Cancellation, Lightweight': 1, 'Slim Fit, Heavy Duty Protection': 1, '9H Surface Hardness, Scratch Resistant': 2, '9H Surface Hardness': 2, 'Wireless': 4, 'Magnetic Tip': 1, 'adjustable': 1, 'Lightweight Design, Travel, Short Circuit Protection, Fast Charging': 1, 'Fast Charging': 1, 'Touchpad': 1, 'Dust Resistant, Anti-Fingerprint, Anti-Slip': 1, 'Card Slot': 1, 'Heavy Duty Protection, Anti-Slip, Anti-': 1, 'Surround Sound, Microphone Included': 1, 'Durability': 1, 'nintendo switch large grip nintendo switch grip pro': 1, 'Sweatproof': 2, 'Charging Indicator': 1, 'Heavy Duty Protection, Lightweight, Anti-Slip': 1, 'Antioxidant': 1, 'Heavy Duty Protection': 6, 'Waterproof': 2, 'Hand Free, PS5 slim stand, ps5 base, PS5 console stand, base ps5': 1, 'Kickstand, Shock-Absorbent': 1, 'Anti-Fingerprint': 1, 'CARBON FIBER FINISH - with the same vibrant color and durability as our matte finish, This stylish carbon fiber texture will have your gear looking and feeling like one of a kind': 1, 'Scratch Res': 1, 'Energy Efficient': 1, 'Dustproof': 1, 'Dust Proof, Scratch Resistant': 1, 'stream deck case screen protector stream deck slim hard case steam deck clear hard case stream deck clear hard case steam deck thumb pads stream deck hard case protector steam deck protector case steam deck clear cover, stream deck cover stream deck case clear stream deck protective case cover stream deck case with screen cover stream deck hard case with cover Steam deck case protector Protective case for steam deck stream deck thumb grips steam deck accessories thumb grip, steam deck case cover protector stream deck case with screen protector stream deck case protector steam deck cover and screen protector steam deck protective case cover stream deck slim case cover steam deck thumb covers, Protective case for steam deck game console steam deck protective case and screen protector steam deck accessories bundle stream deck analog grips steam deck protector hard case stream deck thumbstick grips stream deck analog stick cover steam deck clear hard steam deck thumb protector, steam deck accessories stream deck accessories steam deck protector steam deck accessories case steam deck cover Steam deck protective cover steam deck protector cover stream deck case cover steam deck case cover stream deck cover case': 1, 'Flexible, Anti-Slip': 1, 'Heavy Duty Protection, Lightweight, Screen Protector': 1, 'Sta, Dust Proof, Scratch Resistant': 2, 'Camera Protector, Shock-Absorbent': 1, 'Adjustable': 1, 'Dust Proof, Stain Resistant': 2, 'flexible': 1, 'Heavy Duty Protection, Anti Scratch': 1, 'Slim Profile': 1, 'Lightweight, Anti-Slip': 1, 'Lightweight, Card Slot': 1, 'Card Slots, Screen Protector': 1, 'Screen Protector': 3, 'Heavy Duty Protection, Lightweight': 1, 'SET THE TREND: Show off your own unique style with MightySkins for your XBOX Series S! Don’t like the Black Wood Design? We have hundreds of designs to choose from, so your XBOX Series S will be as unique as you are!': 1, 'Kickstand, Card Slot': 1, 'Anti-Fingerprint, Anti-Slip': 1, 'Screen Protector, Scratch Res': 1, 'Flexible': 1, 'SET THE TREND: Show off your own unique style with MightySkins for your XBOX Series X! Don’t like the Viper Urban Design? We have hundreds of designs to choose from, so your XBOX Series X will be as unique as you are!': 1, 'Lightweight, Screen Protector': 1}\n"
     ]
    },
    {
     "data": {
      "text/plain": [
       "{'Portable & Compact, One-Key Switch, Play While Charging': 1,\n",
       " 'Portable': 4,\n",
       " 'Scratch Resistant': 52,\n",
       " 'Anti-Slip, Scratch Res': 1,\n",
       " 'Waterproof, Scratch Resistant': 1,\n",
       " 'Scratch resistant': 8,\n",
       " 'Six-axis gyroscope, Mapping function, Ergonomic, Turbo functionality, Precise controls': 1,\n",
       " 'Light Weight': 1,\n",
       " 'Microphone, Stereo': 2,\n",
       " 'Heavy Duty Protection, Anti-Slip': 6,\n",
       " 'scratch resistant': 1,\n",
       " 'With AC Charger Storage Space': 1,\n",
       " 'UV Protection, Anti Glare': 1,\n",
       " 'Heavy Duty Protection, Waterproof': 4,\n",
       " 'Anti-drop, Anti-collision, Anti-shock': 1,\n",
       " 'Fingerprint-proof': 1,\n",
       " '【6-In-1 Accessories】Includes 1 x Carrying Case; 1 x Soft TPU Case Cover; 1 x HD PU Hard Case Cover; 1 x Tempered Glass Screen Protector; 1 x USB Cable; 2 x Thumb Stick Caps., 【Multiple colors】A variety of colors are available for you to choose from, so that your nintendo switch lite case is not so monotonous, you can choose a different color switch bag according to the color of your clothes or the weather., 【Portable and convenient 】Portable Handle and Lightweight Design provide a comfortable carrying anytime and anywhere. All-around zipper for maximum protection, perfect for travel! It is a very good travel case and you won’t have to wrap your switch in clothing to protect it when you travel!, 【Compatibility】 Specifically designed for Nintendo Switch Lite, not compatible with switch!!! Our switch lite case can show off the original beauty of your Switch Lite, but also provide full protection effectively protecting your device from daily scratches, shocks, and other impacts., 【Multiple Protection】Our Switch Carry case is big inside but small outside.The interior uses a soft cushioning material to protect your device from being scratched when dropped.Designed to make your new Nintendo Switch Console even more portable & travel friendly': 1,\n",
       " 'Anti Scratch': 1,\n",
       " 'Lightweight': 3,\n",
       " 'Anti-Slip': 11,\n",
       " 'Ergonomic': 1,\n",
       " 'DURABLE PROTECTION FOR YOUR DEVICE: Manufactured with ultra-thin, ultra-durable, stain-resistant laminate vinyl in order to effectively protect your gear from dings, scrapes, dust, and the wear and tear of everyday use! MightySkins a SOFT vinyl skin cover, is not made of rubber, silicone or plastic & it is NOT a HARD case': 1,\n",
       " 'Anti Glare': 1,\n",
       " 'Magnetic, Card Slots': 1,\n",
       " 'Kickstand, Heavy Duty Protection': 1,\n",
       " 'GOES ON AND COMES OFF EASY: Apply your MightySkins vinyl decal easily & with precision on your Nintendo Switch OLED thanks to a patented low grip air release adhesive that’s built to last but removes easily and leaves no sticky residue when you’re ready to switch to a different design!': 1,\n",
       " 'Card Slots': 2,\n",
       " 'Shock-Absorbent': 2,\n",
       " 'Easy to Install, Durable': 1,\n",
       " 'Heavy Duty Protection, Lightweight, Travel-friendly, Shockproof, Scratchprood': 1,\n",
       " 'SET THE TREND: Show off your own unique style with MightySkins for your XBOX Series S! Don’t like the VSCO Girl Design? We have hundreds of designs to choose from, so your XBOX Series S will be as unique as you are!': 1,\n",
       " 'Durable': 4,\n",
       " 'Game Room': 1,\n",
       " 'Backlit': 1,\n",
       " 'Noise Cancellation, Lightweight': 1,\n",
       " 'Slim Fit, Heavy Duty Protection': 1,\n",
       " '9H Surface Hardness, Scratch Resistant': 2,\n",
       " '9H Surface Hardness': 2,\n",
       " 'Wireless': 4,\n",
       " 'Magnetic Tip': 1,\n",
       " 'adjustable': 1,\n",
       " 'Lightweight Design, Travel, Short Circuit Protection, Fast Charging': 1,\n",
       " 'Fast Charging': 1,\n",
       " 'Touchpad': 1,\n",
       " 'Dust Resistant, Anti-Fingerprint, Anti-Slip': 1,\n",
       " 'Card Slot': 1,\n",
       " 'Heavy Duty Protection, Anti-Slip, Anti-': 1,\n",
       " 'Surround Sound, Microphone Included': 1,\n",
       " 'Durability': 1,\n",
       " 'nintendo switch large grip nintendo switch grip pro': 1,\n",
       " 'Sweatproof': 2,\n",
       " 'Charging Indicator': 1,\n",
       " 'Heavy Duty Protection, Lightweight, Anti-Slip': 1,\n",
       " 'Antioxidant': 1,\n",
       " 'Heavy Duty Protection': 6,\n",
       " 'Waterproof': 2,\n",
       " 'Hand Free, PS5 slim stand, ps5 base, PS5 console stand, base ps5': 1,\n",
       " 'Kickstand, Shock-Absorbent': 1,\n",
       " 'Anti-Fingerprint': 1,\n",
       " 'CARBON FIBER FINISH - with the same vibrant color and durability as our matte finish, This stylish carbon fiber texture will have your gear looking and feeling like one of a kind': 1,\n",
       " 'Scratch Res': 1,\n",
       " 'Energy Efficient': 1,\n",
       " 'Dustproof': 1,\n",
       " 'Dust Proof, Scratch Resistant': 1,\n",
       " 'stream deck case screen protector stream deck slim hard case steam deck clear hard case stream deck clear hard case steam deck thumb pads stream deck hard case protector steam deck protector case steam deck clear cover, stream deck cover stream deck case clear stream deck protective case cover stream deck case with screen cover stream deck hard case with cover Steam deck case protector Protective case for steam deck stream deck thumb grips steam deck accessories thumb grip, steam deck case cover protector stream deck case with screen protector stream deck case protector steam deck cover and screen protector steam deck protective case cover stream deck slim case cover steam deck thumb covers, Protective case for steam deck game console steam deck protective case and screen protector steam deck accessories bundle stream deck analog grips steam deck protector hard case stream deck thumbstick grips stream deck analog stick cover steam deck clear hard steam deck thumb protector, steam deck accessories stream deck accessories steam deck protector steam deck accessories case steam deck cover Steam deck protective cover steam deck protector cover stream deck case cover steam deck case cover stream deck cover case': 1,\n",
       " 'Flexible, Anti-Slip': 1,\n",
       " 'Heavy Duty Protection, Lightweight, Screen Protector': 1,\n",
       " 'Sta, Dust Proof, Scratch Resistant': 2,\n",
       " 'Camera Protector, Shock-Absorbent': 1,\n",
       " 'Adjustable': 1,\n",
       " 'Dust Proof, Stain Resistant': 2,\n",
       " 'flexible': 1,\n",
       " 'Heavy Duty Protection, Anti Scratch': 1,\n",
       " 'Slim Profile': 1,\n",
       " 'Lightweight, Anti-Slip': 1,\n",
       " 'Lightweight, Card Slot': 1,\n",
       " 'Card Slots, Screen Protector': 1,\n",
       " 'Screen Protector': 3,\n",
       " 'Heavy Duty Protection, Lightweight': 1,\n",
       " 'SET THE TREND: Show off your own unique style with MightySkins for your XBOX Series S! Don’t like the Black Wood Design? We have hundreds of designs to choose from, so your XBOX Series S will be as unique as you are!': 1,\n",
       " 'Kickstand, Card Slot': 1,\n",
       " 'Anti-Fingerprint, Anti-Slip': 1,\n",
       " 'Screen Protector, Scratch Res': 1,\n",
       " 'Flexible': 1,\n",
       " 'SET THE TREND: Show off your own unique style with MightySkins for your XBOX Series X! Don’t like the Viper Urban Design? We have hundreds of designs to choose from, so your XBOX Series X will be as unique as you are!': 1,\n",
       " 'Lightweight, Screen Protector': 1}"
      ]
     },
     "execution_count": 12,
     "metadata": {},
     "output_type": "execute_result"
    }
   ],
   "source": [
    "parsed_dataset.print_key_values('special_features')"
   ]
  },
  {
   "cell_type": "markdown",
   "metadata": {},
   "source": [
    "## Analyse Features"
   ]
  },
  {
   "cell_type": "code",
   "execution_count": null,
   "metadata": {},
   "outputs": [],
   "source": [
    "df_attributes = pd.read_csv(\"saved_dictionary_feature_counts.csv\")"
   ]
  },
  {
   "cell_type": "code",
   "execution_count": 143,
   "metadata": {},
   "outputs": [
    {
     "name": "stdout",
     "output_type": "stream",
     "text": [
      "5729\n"
     ]
    }
   ],
   "source": [
    "# load counts of parsed 'features' column\n",
    "#df_attributes = pd.read_csv(\"feature_counts.csv\")\n",
    "print(len(df_attributes))\n",
    "df_counts = df_attributes.sort_values('counts')\n",
    "df_alphabetical = df_attributes.sort_values('items')"
   ]
  },
  {
   "cell_type": "code",
   "execution_count": 162,
   "metadata": {},
   "outputs": [
    {
     "name": "stdout",
     "output_type": "stream",
     "text": [
      "2800 2825\n",
      "      Unnamed: 0                           items  counts\n",
      "3907        3907       playstation_3_thumb_grips      23\n",
      "3667        3667          outlet_connection_size      23\n",
      "1589        1589              dog_shedding_tools      23\n",
      "575          575  book_covers_&_book_accessories      23\n",
      "3982        3982             plush_toys_for_dogs      23\n",
      "106          106         antibacterial_treatment      23\n",
      "4612        4612                     sheet_music      23\n",
      "7              7                       3do_games      23\n",
      "1551        1551                     dog_hoodies      23\n",
      "307          307                      awards_won      23\n",
      "970          970      clipboards_&_forms_holders      23\n",
      "5391        5391                         violins      23\n",
      "5629        5629                     write_speed      23\n",
      "3449        3449         number_of_cable_strands      23\n",
      "2363        2363                 hem_stitch_type      23\n",
      "141          141                 aquarium_stands      23\n",
      "2356        2356                heating_coverage      23\n",
      "4055        4055               power_consumption      23\n",
      "4577        4577                     sensor_type      23\n",
      "1929        1929      file_folders_&_accessories      23\n",
      "131          131        aquarium_gravel_cleaners      24\n",
      "1480        1480               dog_car_harnesses      24\n",
      "665          665                         cabasas      24\n",
      "3540        3540               office_book_carts      24\n",
      "1054        1054    combination_washers_&_dryers      24\n"
     ]
    }
   ],
   "source": [
    "#i = 500\n",
    "j = i + 25\n",
    "\n",
    "print(i, j)\n",
    "print(df_counts[i:j])\n",
    "\n",
    "i = j"
   ]
  },
  {
   "cell_type": "code",
   "execution_count": 47,
   "metadata": {},
   "outputs": [],
   "source": [
    "def list_items_starting_with(text):\n",
    "    df = df_alphabetical[df_alphabetical['items'].fillna('').str.startswith(text)]\n",
    "    print(df)\n",
    "    return df"
   ]
  },
  {
   "cell_type": "code",
   "execution_count": 28,
   "metadata": {},
   "outputs": [
    {
     "data": {
      "text/html": [
       "<div>\n",
       "<style scoped>\n",
       "    .dataframe tbody tr th:only-of-type {\n",
       "        vertical-align: middle;\n",
       "    }\n",
       "\n",
       "    .dataframe tbody tr th {\n",
       "        vertical-align: top;\n",
       "    }\n",
       "\n",
       "    .dataframe thead th {\n",
       "        text-align: right;\n",
       "    }\n",
       "</style>\n",
       "<table border=\"1\" class=\"dataframe\">\n",
       "  <thead>\n",
       "    <tr style=\"text-align: right;\">\n",
       "      <th></th>\n",
       "      <th>Unnamed: 0</th>\n",
       "      <th>items</th>\n",
       "      <th>counts</th>\n",
       "    </tr>\n",
       "  </thead>\n",
       "  <tbody>\n",
       "    <tr>\n",
       "      <th>2933</th>\n",
       "      <td>2933</td>\n",
       "      <td>item_weight</td>\n",
       "      <td>1789512</td>\n",
       "    </tr>\n",
       "    <tr>\n",
       "      <th>2934</th>\n",
       "      <td>2934</td>\n",
       "      <td>item_weight_0.01_grams</td>\n",
       "      <td>1</td>\n",
       "    </tr>\n",
       "    <tr>\n",
       "      <th>2935</th>\n",
       "      <td>2935</td>\n",
       "      <td>item_weight_0.01_kilograms</td>\n",
       "      <td>1</td>\n",
       "    </tr>\n",
       "    <tr>\n",
       "      <th>2936</th>\n",
       "      <td>2936</td>\n",
       "      <td>item_weight_0.01_ounces</td>\n",
       "      <td>14</td>\n",
       "    </tr>\n",
       "    <tr>\n",
       "      <th>2937</th>\n",
       "      <td>2937</td>\n",
       "      <td>item_weight_0.01_pounds</td>\n",
       "      <td>7</td>\n",
       "    </tr>\n",
       "    <tr>\n",
       "      <th>...</th>\n",
       "      <td>...</td>\n",
       "      <td>...</td>\n",
       "      <td>...</td>\n",
       "    </tr>\n",
       "    <tr>\n",
       "      <th>3344</th>\n",
       "      <td>3344</td>\n",
       "      <td>item_weight_93.33_pounds</td>\n",
       "      <td>1</td>\n",
       "    </tr>\n",
       "    <tr>\n",
       "      <th>3345</th>\n",
       "      <td>3345</td>\n",
       "      <td>item_weight_93.95_pounds</td>\n",
       "      <td>1</td>\n",
       "    </tr>\n",
       "    <tr>\n",
       "      <th>3346</th>\n",
       "      <td>3346</td>\n",
       "      <td>item_weight_93_pounds</td>\n",
       "      <td>2</td>\n",
       "    </tr>\n",
       "    <tr>\n",
       "      <th>3347</th>\n",
       "      <td>3347</td>\n",
       "      <td>item_weight_9_kilograms</td>\n",
       "      <td>2</td>\n",
       "    </tr>\n",
       "    <tr>\n",
       "      <th>3348</th>\n",
       "      <td>3348</td>\n",
       "      <td>item_weight_9_pounds</td>\n",
       "      <td>11</td>\n",
       "    </tr>\n",
       "  </tbody>\n",
       "</table>\n",
       "<p>416 rows × 3 columns</p>\n",
       "</div>"
      ],
      "text/plain": [
       "      Unnamed: 0                       items   counts\n",
       "2933        2933                 item_weight  1789512\n",
       "2934        2934      item_weight_0.01_grams        1\n",
       "2935        2935  item_weight_0.01_kilograms        1\n",
       "2936        2936     item_weight_0.01_ounces       14\n",
       "2937        2937     item_weight_0.01_pounds        7\n",
       "...          ...                         ...      ...\n",
       "3344        3344    item_weight_93.33_pounds        1\n",
       "3345        3345    item_weight_93.95_pounds        1\n",
       "3346        3346       item_weight_93_pounds        2\n",
       "3347        3347     item_weight_9_kilograms        2\n",
       "3348        3348        item_weight_9_pounds       11\n",
       "\n",
       "[416 rows x 3 columns]"
      ]
     },
     "execution_count": 28,
     "metadata": {},
     "output_type": "execute_result"
    }
   ],
   "source": [
    "list_items_starting_with('vehicle_service_type')\n",
    "list_items_starting_with('item_weight')\n",
    "list_items_starting_with('wattage')\n",
    "list_items_starting_with('load_index')\n",
    "list_items_starting_with('rim_size')\n",
    "list_items_starting_with('possible_category')"
   ]
  },
  {
   "cell_type": "code",
   "execution_count": 159,
   "metadata": {},
   "outputs": [
    {
     "name": "stdout",
     "output_type": "stream",
     "text": [
      "     Unnamed: 0              items   counts\n",
      "477         477  best_sellers_rank  1182084\n"
     ]
    },
    {
     "data": {
      "text/html": [
       "<div>\n",
       "<style scoped>\n",
       "    .dataframe tbody tr th:only-of-type {\n",
       "        vertical-align: middle;\n",
       "    }\n",
       "\n",
       "    .dataframe tbody tr th {\n",
       "        vertical-align: top;\n",
       "    }\n",
       "\n",
       "    .dataframe thead th {\n",
       "        text-align: right;\n",
       "    }\n",
       "</style>\n",
       "<table border=\"1\" class=\"dataframe\">\n",
       "  <thead>\n",
       "    <tr style=\"text-align: right;\">\n",
       "      <th></th>\n",
       "      <th>Unnamed: 0</th>\n",
       "      <th>items</th>\n",
       "      <th>counts</th>\n",
       "    </tr>\n",
       "  </thead>\n",
       "  <tbody>\n",
       "    <tr>\n",
       "      <th>477</th>\n",
       "      <td>477</td>\n",
       "      <td>best_sellers_rank</td>\n",
       "      <td>1182084</td>\n",
       "    </tr>\n",
       "  </tbody>\n",
       "</table>\n",
       "</div>"
      ],
      "text/plain": [
       "     Unnamed: 0              items   counts\n",
       "477         477  best_sellers_rank  1182084"
      ]
     },
     "execution_count": 159,
     "metadata": {},
     "output_type": "execute_result"
    }
   ],
   "source": [
    "list_items_starting_with('best_sellers_rank')"
   ]
  },
  {
   "cell_type": "code",
   "execution_count": 133,
   "metadata": {},
   "outputs": [
    {
     "name": "stdout",
     "output_type": "stream",
     "text": [
      "7274\n"
     ]
    }
   ],
   "source": [
    "df_attributes = pd.read_csv(\"saved_dictionary_feature_counts.csv\")\n",
    "print(len(df_attributes))"
   ]
  },
  {
   "cell_type": "code",
   "execution_count": 142,
   "metadata": {},
   "outputs": [
    {
     "name": "stdout",
     "output_type": "stream",
     "text": [
      "5729\n"
     ]
    }
   ],
   "source": [
    "df_attributes = pd.read_csv(\"saved_dictionary_feature_counts_1.csv\")\n",
    "print(len(df_attributes))"
   ]
  },
  {
   "cell_type": "code",
   "execution_count": 161,
   "metadata": {},
   "outputs": [
    {
     "name": "stdout",
     "output_type": "stream",
     "text": [
      "1252\n"
     ]
    }
   ],
   "source": [
    "df_attributes = pd.read_csv(\"saved_dictionary_feature_counts_2.csv\")\n",
    "print(len(df_attributes))"
   ]
  }
 ],
 "metadata": {
  "kernelspec": {
   "display_name": "Python 3",
   "language": "python",
   "name": "python3"
  },
  "language_info": {
   "codemirror_mode": {
    "name": "ipython",
    "version": 3
   },
   "file_extension": ".py",
   "mimetype": "text/x-python",
   "name": "python",
   "nbconvert_exporter": "python",
   "pygments_lexer": "ipython3",
   "version": "3.9.13"
  }
 },
 "nbformat": 4,
 "nbformat_minor": 2
}
