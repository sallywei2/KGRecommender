{
 "cells": [
  {
   "cell_type": "code",
   "execution_count": 1,
   "metadata": {},
   "outputs": [
    {
     "name": "stdout",
     "output_type": "stream",
     "text": [
      "True\n"
     ]
    }
   ],
   "source": [
    "a = {'title2':\"\"}\n",
    "title = a.get('title')\n",
    "print(not title)"
   ]
  },
  {
   "cell_type": "markdown",
   "metadata": {},
   "source": [
    "## Load the Knowledge Graph into neo4J"
   ]
  },
  {
   "cell_type": "markdown",
   "metadata": {},
   "source": [
    "The following code loads the basic knowledge graph into neo4J.\n",
    "\n",
    "Make sure neo4J desktop is currently open and the Neo4J database engine is currently running.\n",
    "\n",
    "To connect to a different database, change NEO4J_URI, NEO4J_USERNAME, and NEO4J_PASSWORD in utils/rag_constants.py"
   ]
  },
  {
   "cell_type": "code",
   "execution_count": 1,
   "metadata": {},
   "outputs": [
    {
     "name": "stdout",
     "output_type": "stream",
     "text": [
      "Ontology loaded from sample_data/e_commerce_website_pooja.owl: [a rdfg:Graph;rdflib:storage [a rdflib:Store;rdfs:label 'Memory']].\n",
      "Loaded parsed dataset from file: saved_dictionary_4.pkl\n",
      "Connected to Neo4J instance at bolt://localhost:7687\n",
      "Deleted existing graph; ready to load knowledge graph\n",
      "Loaded products in 9763 classes from saved_dictionary_4.pkl\n",
      "Done\n"
     ]
    }
   ],
   "source": [
    "from app.utils import print_debug\n",
    "from app.utils import neo4j_client\n",
    "\n",
    "ontology = \"sample_data/e_commerce_website_pooja.owl\"\n",
    "csv_file = \"sample_data/giftcard.csv\" # MERGED_DATA = \"merged_datasets2.csv\"\n",
    "pickle_file = \"saved_dictionary_4.pkl\"\n",
    "\n",
    "# mainCategory,title,averageRating,ratingNumber,features,description,price,images,videos\n",
    "# ,store,categories,parent asin,boughtTogether,,,,,,,,,,,,,,,,,,,,,,,,,,,,,,,,,,,,,,,,,,,,,,,,,,,,,,,,,,,,,,,,,,,,,,,,,\n",
    "\n",
    "#kg_loader = neo4j_client.KnowledgeGraphLoader(ontology, csv_file=csv_file)\n",
    "kg_loader = neo4j_client.KnowledgeGraphLoader(ontology, pickle_file=pickle_file)\n",
    "kg_loader.load_knowledge_graph(reset=True) # this deletes the existing graph in neo4J and replaces it with the KG."
   ]
  },
  {
   "cell_type": "markdown",
   "metadata": {},
   "source": [
    "### Build Additional Details with LLM and Cypher queries"
   ]
  },
  {
   "cell_type": "code",
   "execution_count": 1,
   "metadata": {},
   "outputs": [],
   "source": [
    "from app.llm_handler import LLMHandler, AvailableLLMs\n",
    "\n",
    "PROMPT_CYPHER_WRITE= \"\"\"\n",
    "\"Extract key points of the given item from its description (such as color, material(s), brand name, manufacturer, product line, or others) and edit the Cypher query below to add the key points to the graph. Return only the edited Cypher query.\n",
    "\n",
    "User query:\n",
    "{user_query}\n",
    "\n",
    "Cypher query:\n",
    "MATCH (n)\n",
    "WHERE n.title = {item}\n",
    "add new connection or create a new node with the property.\n",
    "\"\"\"\n",
    "\n",
    "csv_file = \"sample_data/giftcard.csv\" \n",
    "\n",
    "model_prompt = user_query\n",
    "print(f\"Model prompt: {model_prompt}\")\n",
    "llm_handler = LLMHandler(AvailableLLMs.FLANT5)\n",
    "llm_handler.prompt_llm(model_prompt)"
   ]
  }
 ],
 "metadata": {
  "kernelspec": {
   "display_name": "Python 3",
   "language": "python",
   "name": "python3"
  },
  "language_info": {
   "codemirror_mode": {
    "name": "ipython",
    "version": 3
   },
   "file_extension": ".py",
   "mimetype": "text/x-python",
   "name": "python",
   "nbconvert_exporter": "python",
   "pygments_lexer": "ipython3",
   "version": "3.9.13"
  }
 },
 "nbformat": 4,
 "nbformat_minor": 2
}
