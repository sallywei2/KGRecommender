{
 "cells": [
  {
   "cell_type": "code",
   "execution_count": 18,
   "metadata": {},
   "outputs": [
    {
     "name": "stdout",
     "output_type": "stream",
     "text": [
      "https://m.media-amazon.com/images/I/41QnPzV06YL._SX38_SY50_CR,0,0,38,50_.jpg\n",
      "[{'thumb': 'https://m.media-amazon.com/images/I/41QnPzV06YL._SX38_SY50_CR,0,0,38,50_.jpg', 'large': 'https://m.media-amazon.com/images/I/41QnPzV06YL.jpg', 'variant': 'MAIN', 'hi_res': 'https://m.media-amazon.com/images/I/71pXawGKvOL._SL1500_.jpg'}, {'thumb': 'https://m.media-amazon.com/images/I/41WJKtk15fL._SX38_SY50_CR,0,0,38,50_.jpg', 'large': 'https://m.media-amazon.com/images/I/41WJKtk15fL.jpg', 'variant': 'PT01', 'hi_res': 'https://m.media-amazon.com/images/I/61tfEecBy3L._SL1500_.jpg'}, {'thumb': 'https://m.media-amazon.com/images/I/419hZbaid1L._SX38_SY50_CR,0,0,38,50_.jpg', 'large': 'https://m.media-amazon.com/images/I/419hZbaid1L.jpg', 'variant': 'PT02', 'hi_res': 'https://m.media-amazon.com/images/I/61v9MazpvZL._SL1500_.jpg'}, {'thumb': 'https://m.media-amazon.com/images/I/41ABL9CRKIL._SX38_SY50_CR,0,0,38,50_.jpg', 'large': 'https://m.media-amazon.com/images/I/41ABL9CRKIL.jpg', 'variant': 'PT03', 'hi_res': 'https://m.media-amazon.com/images/I/61gXWWh33hL._SL1500_.jpg'}, {'thumb': 'https://m.media-amazon.com/images/I/315dA2FgqyL._SX38_SY50_CR,0,0,38,50_.jpg', 'large': 'https://m.media-amazon.com/images/I/315dA2FgqyL.jpg', 'variant': 'PT04', 'hi_res': 'https://m.media-amazon.com/images/I/61h76J+vlaL._SL1500_.jpg'}, {'thumb': 'https://m.media-amazon.com/images/I/41PosIOm3FL._SX38_SY50_CR,0,0,38,50_.jpg', 'large': 'https://m.media-amazon.com/images/I/41PosIOm3FL.jpg', 'variant': 'PT05', 'hi_res': 'https://m.media-amazon.com/images/I/61T8mjGwozL._SL1500_.jpg'}, {'thumb': 'https://m.media-amazon.com/images/I/51oJShRWxUL._SX38_SY50_CR,0,0,38,50_.jpg', 'large': 'https://m.media-amazon.com/images/I/51oJShRWxUL.jpg', 'variant': 'PT06', 'hi_res': 'https://m.media-amazon.com/images/I/71brtE+qnIL._SL1500_.jpg'}, {'thumb': 'https://m.media-amazon.com/images/I/41IMxDYg4aL._SX38_SY50_CR,0,0,38,50_.jpg', 'large': 'https://m.media-amazon.com/images/I/41IMxDYg4aL.jpg', 'variant': 'PT07', 'hi_res': 'https://m.media-amazon.com/images/I/61hSPsBpFLL._SL1000_.jpg'}]\n"
     ]
    }
   ],
   "source": [
    "import json\n",
    "\n",
    "test = \"\"\"\n",
    "({'thumb': 'https://m.media-amazon.com/images/I/41QnPzV06YL._SX38_SY50_CR,0,0,38,50_.jpg', 'large': 'https://m.media-amazon.com/images/I/41QnPzV06YL.jpg', 'variant': 'MAIN', 'hi_res': 'https://m.media-amazon.com/images/I/71pXawGKvOL._SL1500_.jpg'}, {'thumb': 'https://m.media-amazon.com/images/I/41WJKtk15fL._SX38_SY50_CR,0,0,38,50_.jpg', 'large': 'https://m.media-amazon.com/images/I/41WJKtk15fL.jpg', 'variant': 'PT01', 'hi_res': 'https://m.media-amazon.com/images/I/61tfEecBy3L._SL1500_.jpg'}, {'thumb': 'https://m.media-amazon.com/images/I/419hZbaid1L._SX38_SY50_CR,0,0,38,50_.jpg', 'large': 'https://m.media-amazon.com/images/I/419hZbaid1L.jpg', 'variant': 'PT02', 'hi_res': 'https://m.media-amazon.com/images/I/61v9MazpvZL._SL1500_.jpg'}, {'thumb': 'https://m.media-amazon.com/images/I/41ABL9CRKIL._SX38_SY50_CR,0,0,38,50_.jpg', 'large': 'https://m.media-amazon.com/images/I/41ABL9CRKIL.jpg', 'variant': 'PT03', 'hi_res': 'https://m.media-amazon.com/images/I/61gXWWh33hL._SL1500_.jpg'}, {'thumb': 'https://m.media-amazon.com/images/I/315dA2FgqyL._SX38_SY50_CR,0,0,38,50_.jpg', 'large': 'https://m.media-amazon.com/images/I/315dA2FgqyL.jpg', 'variant': 'PT04', 'hi_res': 'https://m.media-amazon.com/images/I/61h76J+vlaL._SL1500_.jpg'}, {'thumb': 'https://m.media-amazon.com/images/I/41PosIOm3FL._SX38_SY50_CR,0,0,38,50_.jpg', 'large': 'https://m.media-amazon.com/images/I/41PosIOm3FL.jpg', 'variant': 'PT05', 'hi_res': 'https://m.media-amazon.com/images/I/61T8mjGwozL._SL1500_.jpg'}, {'thumb': 'https://m.media-amazon.com/images/I/51oJShRWxUL._SX38_SY50_CR,0,0,38,50_.jpg', 'large': 'https://m.media-amazon.com/images/I/51oJShRWxUL.jpg', 'variant': 'PT06', 'hi_res': 'https://m.media-amazon.com/images/I/71brtE+qnIL._SL1500_.jpg'}, {'thumb': 'https://m.media-amazon.com/images/I/41IMxDYg4aL._SX38_SY50_CR,0,0,38,50_.jpg', 'large': 'https://m.media-amazon.com/images/I/41IMxDYg4aL.jpg', 'variant': 'PT07', 'hi_res': 'https://m.media-amazon.com/images/I/61hSPsBpFLL._SL1000_.jpg'})\n",
    " \"\"\"\n",
    "test = test.replace(\"(\",\"[\").replace(\")\",\"]\").replace(\"'\",'\"')\n",
    "\n",
    "t = json.loads(test)\n",
    "print(t[0]['thumb'])\n",
    "\n",
    "print(f\"{t}\")"
   ]
  },
  {
   "cell_type": "markdown",
   "metadata": {},
   "source": [
    "## Load the Knowledge Graph into neo4J"
   ]
  },
  {
   "cell_type": "markdown",
   "metadata": {},
   "source": [
    "The following code loads the basic knowledge graph into neo4J.\n",
    "\n",
    "Make sure neo4J desktop is currently open and the Neo4J database engine is currently running.\n",
    "\n",
    "To connect to a different database, change NEO4J_URI, NEO4J_USERNAME, and NEO4J_PASSWORD in utils/rag_constants.py"
   ]
  },
  {
   "cell_type": "code",
   "execution_count": 1,
   "metadata": {},
   "outputs": [
    {
     "name": "stdout",
     "output_type": "stream",
     "text": [
      "Ontology loaded from sample_data/e_commerce_website_pooja.owl: [a rdfg:Graph;rdflib:storage [a rdflib:Store;rdfs:label 'Memory']].\n",
      "Loaded parsed dataset with 2726775 rows from file: saved_dictionary_6.pkl\n",
      "Processed up to row 2720000...\n",
      "Processed up to row 2721000...\n",
      "Processed up to row 2722000...\n",
      "Processed up to row 2723000...\n",
      "Processed up to row 2724000...\n",
      "Processed up to row 2725000...\n",
      "Processed up to row 2726000...\n",
      "Finished processing up to row 2726775\n",
      "Loaded products in 3028 classes from saved_dictionary_6.pkl; skipped 0 without titles.\n",
      "Done\n"
     ]
    }
   ],
   "source": [
    "from app.utils import print_debug\n",
    "from app.utils import neo4j_client\n",
    "\n",
    "ontology = \"sample_data/e_commerce_website_pooja.owl\"\n",
    "csv_file = \"sample_data/giftcard.csv\" # MERGED_DATA = \"merged_datasets2.csv\"\n",
    "pickle_file = \"saved_dictionary_6.pkl\"\n",
    "\n",
    "total_rows = 2726775\n",
    "num_rows = 6775\n",
    "start_at_row = total_rows - num_rows\n",
    "# Processed up to row 52000... in 307m 14.5s\n",
    "# Finished processing up to row 2726775 (from 2720000) ... 91m 27.4s\n",
    "# Finished processing up to row 122134... 441m 50.1s\n",
    "\n",
    "# mainCategory,title,averageRating,ratingNumber,features,description,price,images,videos\n",
    "# ,store,categories,parent asin,boughtTogether,,,,,,,,,,,,,,,,,,,,,,,,,,,,,,,,,,,,,,,,,,,,,,,,,,,,,,,,,,,,,,,,,,,,,,,,,\n",
    "\n",
    "#kg_loader = neo4j_client.KnowledgeGraphLoader(ontology, csv_file=csv_file)\n",
    "kg_loader = neo4j_client.KnowledgeGraphLoader(ontology, pickle_file=pickle_file)\n",
    "#kg_loader.load_knowledge_graph(reset=False, start_at_row=start_at_row) # this deletes the existing graph in neo4J and replaces it with the KG ."
   ]
  },
  {
   "cell_type": "code",
   "execution_count": 2,
   "metadata": {},
   "outputs": [
    {
     "name": "stdout",
     "output_type": "stream",
     "text": [
      "Processed up to row 53000...\n",
      "Processed up to row 54000...\n",
      "Processed up to row 55000...\n",
      "Processed up to row 56000...\n",
      "Processed up to row 57000...\n",
      "Processed up to row 58000...\n",
      "Processed up to row 59000...\n",
      "Processed up to row 60000...\n",
      "Processed up to row 61000...\n",
      "Processed up to row 62000...\n",
      "Processed up to row 63000...\n",
      "Processed up to row 64000...\n",
      "Processed up to row 65000...\n",
      "Processed up to row 66000...\n",
      "Processed up to row 67000...\n",
      "Processed up to row 68000...\n",
      "Processed up to row 69000...\n",
      "Processed up to row 70000...\n",
      "Processed up to row 71000...\n",
      "Processed up to row 72000...\n",
      "Processed up to row 73000...\n",
      "Processed up to row 74000...\n",
      "Processed up to row 75000...\n",
      "Processed up to row 76000...\n",
      "Processed up to row 77000...\n",
      "Processed up to row 78000...\n",
      "Processed up to row 79000...\n",
      "Processed up to row 80000...\n",
      "Processed up to row 81000...\n",
      "Processed up to row 82000...\n",
      "Processed up to row 83000...\n",
      "Processed up to row 84000...\n",
      "Processed up to row 85000...\n",
      "Processed up to row 86000...\n",
      "Processed up to row 87000...\n",
      "Processed up to row 88000...\n",
      "Processed up to row 89000...\n",
      "Processed up to row 90000...\n",
      "Processed up to row 91000...\n",
      "Processed up to row 92000...\n",
      "Processed up to row 93000...\n",
      "Processed up to row 94000...\n",
      "Processed up to row 95000...\n",
      "Processed up to row 96000...\n",
      "Processed up to row 97000...\n",
      "Processed up to row 98000...\n",
      "Processed up to row 99000...\n",
      "Processed up to row 100000...\n",
      "Processed up to row 101000...\n",
      "Processed up to row 102000...\n",
      "Processed up to row 103000...\n",
      "Processed up to row 104000...\n",
      "Processed up to row 105000...\n",
      "Processed up to row 106000...\n",
      "Processed up to row 107000...\n",
      "Processed up to row 108000...\n",
      "Processed up to row 109000...\n",
      "Processed up to row 110000...\n",
      "Processed up to row 111000...\n",
      "Processed up to row 112000...\n",
      "Processed up to row 113000...\n",
      "Processed up to row 114000...\n",
      "Processed up to row 115000...\n",
      "Processed up to row 116000...\n",
      "Processed up to row 117000...\n",
      "Processed up to row 118000...\n",
      "Processed up to row 119000...\n",
      "Processed up to row 120000...\n",
      "Processed up to row 121000...\n",
      "Processed up to row 122000...\n",
      "Finished processing up to row 122134\n"
     ]
    },
    {
     "ename": "ServiceUnavailable",
     "evalue": "Cannot connect to any known routers",
     "output_type": "error",
     "traceback": [
      "\u001b[1;31m---------------------------------------------------------------------------\u001b[0m",
      "\u001b[1;31mServiceUnavailable\u001b[0m                        Traceback (most recent call last)",
      "Cell \u001b[1;32mIn[2], line 2\u001b[0m\n\u001b[0;32m      1\u001b[0m \u001b[38;5;66;03m# loading the pickle files takes 15m\u001b[39;00m\n\u001b[1;32m----> 2\u001b[0m \u001b[43mkg_loader\u001b[49m\u001b[38;5;241;43m.\u001b[39;49m\u001b[43mload_knowledge_graph\u001b[49m\u001b[43m(\u001b[49m\u001b[43mreset\u001b[49m\u001b[38;5;241;43m=\u001b[39;49m\u001b[38;5;28;43;01mFalse\u001b[39;49;00m\u001b[43m,\u001b[49m\u001b[43m \u001b[49m\u001b[43mstart_at_row\u001b[49m\u001b[38;5;241;43m=\u001b[39;49m\u001b[38;5;241;43m53000\u001b[39;49m\u001b[43m,\u001b[49m\u001b[43m \u001b[49m\u001b[43mend_at_row\u001b[49m\u001b[38;5;241;43m=\u001b[39;49m\u001b[43mstart_at_row\u001b[49m\u001b[43m)\u001b[49m\n",
      "File \u001b[1;32mc:\\Users\\lawfu\\Documents\\_Library\\_School\\SJSU MS Data Analytics\\202403_Fall_DATA-298B_FinalProject\\KGRecommender\\app\\utils\\neo4j_client.py:270\u001b[0m, in \u001b[0;36mKnowledgeGraphLoader.load_knowledge_graph\u001b[1;34m(self, reset, start_at_row, end_at_row)\u001b[0m\n\u001b[0;32m    263\u001b[0m \u001b[38;5;28mself\u001b[39m\u001b[38;5;241m.\u001b[39mproduct_nodes \u001b[38;5;241m=\u001b[39m \u001b[38;5;28mself\u001b[39m\u001b[38;5;241m.\u001b[39mGraphNodes(\u001b[38;5;28mself\u001b[39m\u001b[38;5;241m.\u001b[39mneo4j_graph)\n\u001b[0;32m    265\u001b[0m \u001b[38;5;66;03m# Create the knowledge graph in Neo4j\u001b[39;00m\n\u001b[0;32m    266\u001b[0m \u001b[38;5;66;03m# load item categories; node classes and subclasses\u001b[39;00m\n\u001b[0;32m    267\u001b[0m \u001b[38;5;66;03m#self._load_knowledge_graph_classes()\u001b[39;00m\n\u001b[0;32m    268\u001b[0m \u001b[38;5;66;03m#print(f\"Loaded {len(self.class_nodes.nodes)} classes from {self.ontology}\")\u001b[39;00m\n\u001b[1;32m--> 270\u001b[0m \u001b[38;5;28;43mself\u001b[39;49m\u001b[38;5;241;43m.\u001b[39;49m\u001b[43m_load_products\u001b[49m\u001b[43m(\u001b[49m\u001b[43mstart_at_row\u001b[49m\u001b[38;5;241;43m=\u001b[39;49m\u001b[43mstart_at_row\u001b[49m\u001b[43m,\u001b[49m\u001b[43m \u001b[49m\u001b[43mend_at_row\u001b[49m\u001b[38;5;241;43m=\u001b[39;49m\u001b[43mend_at_row\u001b[49m\u001b[43m)\u001b[49m\n\u001b[0;32m    271\u001b[0m \u001b[38;5;28;01mif\u001b[39;00m \u001b[38;5;28mself\u001b[39m\u001b[38;5;241m.\u001b[39mcsv_file:\n\u001b[0;32m    272\u001b[0m     \u001b[38;5;28mprint\u001b[39m(\u001b[38;5;124mf\u001b[39m\u001b[38;5;124m\"\u001b[39m\u001b[38;5;124mLoaded products in \u001b[39m\u001b[38;5;132;01m{\u001b[39;00m\u001b[38;5;28mlen\u001b[39m(\u001b[38;5;28mself\u001b[39m\u001b[38;5;241m.\u001b[39mclass_nodes\u001b[38;5;241m.\u001b[39mnodes)\u001b[38;5;132;01m}\u001b[39;00m\u001b[38;5;124m classes from \u001b[39m\u001b[38;5;132;01m{\u001b[39;00m\u001b[38;5;28mself\u001b[39m\u001b[38;5;241m.\u001b[39mcsv_file\u001b[38;5;132;01m}\u001b[39;00m\u001b[38;5;124m\"\u001b[39m)\n",
      "File \u001b[1;32mc:\\Users\\lawfu\\Documents\\_Library\\_School\\SJSU MS Data Analytics\\202403_Fall_DATA-298B_FinalProject\\KGRecommender\\app\\utils\\neo4j_client.py:355\u001b[0m, in \u001b[0;36mKnowledgeGraphLoader._load_products\u001b[1;34m(self, start_at_row, end_at_row)\u001b[0m\n\u001b[0;32m    353\u001b[0m                 \u001b[38;5;28;01mbreak\u001b[39;00m\n\u001b[0;32m    354\u001b[0m \u001b[38;5;28;01mexcept\u001b[39;00m \u001b[38;5;167;01mException\u001b[39;00m \u001b[38;5;28;01mas\u001b[39;00m e:\n\u001b[1;32m--> 355\u001b[0m     \u001b[38;5;28;01mraise\u001b[39;00m e\n\u001b[0;32m    356\u001b[0m \u001b[38;5;28;01mfinally\u001b[39;00m:\n\u001b[0;32m    357\u001b[0m     \u001b[38;5;28mprint\u001b[39m(\u001b[38;5;124mf\u001b[39m\u001b[38;5;124m\"\u001b[39m\u001b[38;5;124mFinished processing up to row \u001b[39m\u001b[38;5;132;01m{\u001b[39;00mnum_rows_seen\u001b[38;5;132;01m}\u001b[39;00m\u001b[38;5;124m\"\u001b[39m)\n",
      "File \u001b[1;32mc:\\Users\\lawfu\\Documents\\_Library\\_School\\SJSU MS Data Analytics\\202403_Fall_DATA-298B_FinalProject\\KGRecommender\\app\\utils\\neo4j_client.py:349\u001b[0m, in \u001b[0;36mKnowledgeGraphLoader._load_products\u001b[1;34m(self, start_at_row, end_at_row)\u001b[0m\n\u001b[0;32m    347\u001b[0m \u001b[38;5;28;01mif\u001b[39;00m num_rows_seen \u001b[38;5;241m<\u001b[39m start_at_row:\n\u001b[0;32m    348\u001b[0m     \u001b[38;5;28;01mcontinue\u001b[39;00m\n\u001b[1;32m--> 349\u001b[0m \u001b[38;5;28;43mself\u001b[39;49m\u001b[38;5;241;43m.\u001b[39;49m\u001b[43m_load_product_from_row\u001b[49m\u001b[43m(\u001b[49m\u001b[43mrow\u001b[49m\u001b[38;5;241;43m.\u001b[39;49m\u001b[43mfields\u001b[49m\u001b[43m)\u001b[49m\n\u001b[0;32m    350\u001b[0m \u001b[38;5;28;01mif\u001b[39;00m num_rows_seen \u001b[38;5;241m%\u001b[39m \u001b[38;5;241m1000\u001b[39m \u001b[38;5;241m==\u001b[39m \u001b[38;5;241m0\u001b[39m:\n\u001b[0;32m    351\u001b[0m     \u001b[38;5;28mprint\u001b[39m(\u001b[38;5;124mf\u001b[39m\u001b[38;5;124m\"\u001b[39m\u001b[38;5;124mProcessed up to row \u001b[39m\u001b[38;5;132;01m{\u001b[39;00mnum_rows_seen\u001b[38;5;132;01m}\u001b[39;00m\u001b[38;5;124m...\u001b[39m\u001b[38;5;124m\"\u001b[39m)\n",
      "File \u001b[1;32mc:\\Users\\lawfu\\Documents\\_Library\\_School\\SJSU MS Data Analytics\\202403_Fall_DATA-298B_FinalProject\\KGRecommender\\app\\utils\\neo4j_client.py:377\u001b[0m, in \u001b[0;36mKnowledgeGraphLoader._load_product_from_row\u001b[1;34m(self, row)\u001b[0m\n\u001b[0;32m    374\u001b[0m     row \u001b[38;5;241m=\u001b[39m row\u001b[38;5;241m.\u001b[39mto_dict()\n\u001b[0;32m    375\u001b[0m     attributes \u001b[38;5;241m=\u001b[39m {k: v \u001b[38;5;28;01mfor\u001b[39;00m k, v \u001b[38;5;129;01min\u001b[39;00m row\u001b[38;5;241m.\u001b[39mitems() \u001b[38;5;28;01mif\u001b[39;00m \u001b[38;5;28misinstance\u001b[39m(v, (\u001b[38;5;28mint\u001b[39m, \u001b[38;5;28mfloat\u001b[39m, \u001b[38;5;28mstr\u001b[39m)) \u001b[38;5;129;01mand\u001b[39;00m pd\u001b[38;5;241m.\u001b[39mnotna(v)}\n\u001b[1;32m--> 377\u001b[0m \u001b[38;5;28;43mself\u001b[39;49m\u001b[38;5;241;43m.\u001b[39;49m\u001b[43m_add_product_nodes_and_relationships\u001b[49m\u001b[43m(\u001b[49m\u001b[43mtitle\u001b[49m\u001b[43m,\u001b[49m\u001b[43m \u001b[49m\u001b[43mattributes\u001b[49m\u001b[43m)\u001b[49m\n",
      "File \u001b[1;32mc:\\Users\\lawfu\\Documents\\_Library\\_School\\SJSU MS Data Analytics\\202403_Fall_DATA-298B_FinalProject\\KGRecommender\\app\\utils\\neo4j_client.py:410\u001b[0m, in \u001b[0;36mKnowledgeGraphLoader._add_product_nodes_and_relationships\u001b[1;34m(self, title, attributes)\u001b[0m\n\u001b[0;32m    403\u001b[0m         \u001b[38;5;28mself\u001b[39m\u001b[38;5;241m.\u001b[39m_add_node_and_relationship(\n\u001b[0;32m    404\u001b[0m             main_node \u001b[38;5;241m=\u001b[39m \u001b[38;5;28mself\u001b[39m\u001b[38;5;241m.\u001b[39mclass_nodes\u001b[38;5;241m.\u001b[39mget_or_make_node(\u001b[38;5;124m\"\u001b[39m\u001b[38;5;124mMain Category\u001b[39m\u001b[38;5;124m\"\u001b[39m, parentCategory)\n\u001b[0;32m    405\u001b[0m             , relationship \u001b[38;5;241m=\u001b[39m attr\n\u001b[0;32m    406\u001b[0m             , attr_node_label \u001b[38;5;241m=\u001b[39m attr_node_label\n\u001b[0;32m    407\u001b[0m             , attr_node_title \u001b[38;5;241m=\u001b[39m parentCategory\n\u001b[0;32m    408\u001b[0m         )\n\u001b[0;32m    409\u001b[0m \u001b[38;5;66;03m# create a node for the attribute and relate it to the product\u001b[39;00m\n\u001b[1;32m--> 410\u001b[0m \u001b[38;5;28;43mself\u001b[39;49m\u001b[38;5;241;43m.\u001b[39;49m\u001b[43m_add_node_and_relationship\u001b[49m\u001b[43m(\u001b[49m\n\u001b[0;32m    411\u001b[0m \u001b[43m    \u001b[49m\u001b[43mmain_node\u001b[49m\u001b[43m \u001b[49m\u001b[38;5;241;43m=\u001b[39;49m\u001b[43m \u001b[49m\u001b[43mmain_node\u001b[49m\n\u001b[0;32m    412\u001b[0m \u001b[43m    \u001b[49m\u001b[43m,\u001b[49m\u001b[43m \u001b[49m\u001b[43mrelationship\u001b[49m\u001b[43m \u001b[49m\u001b[38;5;241;43m=\u001b[39;49m\u001b[43m \u001b[49m\u001b[43mattr\u001b[49m\n\u001b[0;32m    413\u001b[0m \u001b[43m    \u001b[49m\u001b[43m,\u001b[49m\u001b[43m \u001b[49m\u001b[43mattr_node_label\u001b[49m\u001b[43m \u001b[49m\u001b[38;5;241;43m=\u001b[39;49m\u001b[43m \u001b[49m\u001b[43mattr_node_label\u001b[49m\n\u001b[0;32m    414\u001b[0m \u001b[43m    \u001b[49m\u001b[43m,\u001b[49m\u001b[43m \u001b[49m\u001b[43mattr_node_title\u001b[49m\u001b[43m \u001b[49m\u001b[38;5;241;43m=\u001b[39;49m\u001b[43m \u001b[49m\u001b[43mattr_values\u001b[49m\u001b[43m)\u001b[49m\n",
      "File \u001b[1;32mc:\\Users\\lawfu\\Documents\\_Library\\_School\\SJSU MS Data Analytics\\202403_Fall_DATA-298B_FinalProject\\KGRecommender\\app\\utils\\neo4j_client.py:426\u001b[0m, in \u001b[0;36mKnowledgeGraphLoader._add_node_and_relationship\u001b[1;34m(self, main_node, relationship, attr_node_label, attr_node_title)\u001b[0m\n\u001b[0;32m    424\u001b[0m \u001b[38;5;28;01mif\u001b[39;00m \u001b[38;5;28mtype\u001b[39m(attr_node_title) \u001b[38;5;241m==\u001b[39m \u001b[38;5;28mtuple\u001b[39m:\n\u001b[0;32m    425\u001b[0m     \u001b[38;5;28;01mfor\u001b[39;00m title \u001b[38;5;129;01min\u001b[39;00m attr_node_title:\n\u001b[1;32m--> 426\u001b[0m         \u001b[38;5;28;43mself\u001b[39;49m\u001b[38;5;241;43m.\u001b[39;49m\u001b[43m_add_node_and_relationship\u001b[49m\u001b[43m(\u001b[49m\n\u001b[0;32m    427\u001b[0m \u001b[43m            \u001b[49m\u001b[43mmain_node\u001b[49m\u001b[43m \u001b[49m\u001b[38;5;241;43m=\u001b[39;49m\u001b[43m \u001b[49m\u001b[43mmain_node\u001b[49m\n\u001b[0;32m    428\u001b[0m \u001b[43m            \u001b[49m\u001b[43m,\u001b[49m\u001b[43m \u001b[49m\u001b[43mrelationship\u001b[49m\u001b[43m \u001b[49m\u001b[38;5;241;43m=\u001b[39;49m\u001b[43m \u001b[49m\u001b[43mrelationship\u001b[49m\n\u001b[0;32m    429\u001b[0m \u001b[43m            \u001b[49m\u001b[43m,\u001b[49m\u001b[43m \u001b[49m\u001b[43mattr_node_label\u001b[49m\u001b[43m \u001b[49m\u001b[38;5;241;43m=\u001b[39;49m\u001b[43m \u001b[49m\u001b[43mattr_node_label\u001b[49m\n\u001b[0;32m    430\u001b[0m \u001b[43m            \u001b[49m\u001b[43m,\u001b[49m\u001b[43m \u001b[49m\u001b[43mattr_node_title\u001b[49m\u001b[43m \u001b[49m\u001b[38;5;241;43m=\u001b[39;49m\u001b[43m \u001b[49m\u001b[43mtitle\u001b[49m\u001b[43m)\u001b[49m\n\u001b[0;32m    431\u001b[0m \u001b[38;5;28;01melif\u001b[39;00m \u001b[38;5;28mtype\u001b[39m(attr_node_title) \u001b[38;5;129;01min\u001b[39;00m (\u001b[38;5;28mstr\u001b[39m, \u001b[38;5;28mint\u001b[39m, \u001b[38;5;28mfloat\u001b[39m):\n\u001b[0;32m    432\u001b[0m     print_debug(\u001b[38;5;124mf\u001b[39m\u001b[38;5;124m\"\u001b[39m\u001b[38;5;124mAdding relationship...  (n)-[\u001b[39m\u001b[38;5;132;01m{\u001b[39;00mrelationship\u001b[38;5;132;01m}\u001b[39;00m\u001b[38;5;124m]->(\u001b[39m\u001b[38;5;132;01m{\u001b[39;00mattr_node_title\u001b[38;5;132;01m}\u001b[39;00m\u001b[38;5;124m:\u001b[39m\u001b[38;5;132;01m{\u001b[39;00mattr_node_label\u001b[38;5;132;01m}\u001b[39;00m\u001b[38;5;124m)\u001b[39m\u001b[38;5;124m\"\u001b[39m)\n",
      "File \u001b[1;32mc:\\Users\\lawfu\\Documents\\_Library\\_School\\SJSU MS Data Analytics\\202403_Fall_DATA-298B_FinalProject\\KGRecommender\\app\\utils\\neo4j_client.py:435\u001b[0m, in \u001b[0;36mKnowledgeGraphLoader._add_node_and_relationship\u001b[1;34m(self, main_node, relationship, attr_node_label, attr_node_title)\u001b[0m\n\u001b[0;32m    433\u001b[0m     attr_node \u001b[38;5;241m=\u001b[39m \u001b[38;5;28mself\u001b[39m\u001b[38;5;241m.\u001b[39mclass_nodes\u001b[38;5;241m.\u001b[39mget_or_make_node(attr_node_label, attr_node_title)\n\u001b[0;32m    434\u001b[0m     rel \u001b[38;5;241m=\u001b[39m Relationship(main_node, relationship, attr_node)\n\u001b[1;32m--> 435\u001b[0m     \u001b[38;5;28;43mself\u001b[39;49m\u001b[38;5;241;43m.\u001b[39;49m\u001b[43mneo4j_graph\u001b[49m\u001b[38;5;241;43m.\u001b[39;49m\u001b[43mcreate\u001b[49m\u001b[43m(\u001b[49m\u001b[43mrel\u001b[49m\u001b[43m)\u001b[49m\n\u001b[0;32m    436\u001b[0m \u001b[38;5;28;01melse\u001b[39;00m:\n\u001b[0;32m    437\u001b[0m     print_debug(\u001b[38;5;124mf\u001b[39m\u001b[38;5;124m\"\u001b[39m\u001b[38;5;124mSkipping relationship: \u001b[39m\u001b[38;5;132;01m{\u001b[39;00mrelationship\u001b[38;5;132;01m}\u001b[39;00m\u001b[38;5;124m, \u001b[39m\u001b[38;5;132;01m{\u001b[39;00m\u001b[38;5;28mtype\u001b[39m(attr_node_title)\u001b[38;5;132;01m}\u001b[39;00m\u001b[38;5;124m \u001b[39m\u001b[38;5;132;01m{\u001b[39;00mattr_node_title\u001b[38;5;132;01m}\u001b[39;00m\u001b[38;5;124m\"\u001b[39m)\n",
      "File \u001b[1;32mc:\\Users\\lawfu\\AppData\\Local\\Programs\\Python\\Python39\\lib\\site-packages\\py2neo\\database.py:591\u001b[0m, in \u001b[0;36mGraph.create\u001b[1;34m(self, subgraph)\u001b[0m\n\u001b[0;32m    584\u001b[0m \u001b[38;5;28;01mdef\u001b[39;00m \u001b[38;5;21mcreate\u001b[39m(\u001b[38;5;28mself\u001b[39m, subgraph):\n\u001b[0;32m    585\u001b[0m \u001b[38;5;250m    \u001b[39m\u001b[38;5;124;03m\"\"\" Run a :meth:`~py2neo.Transaction.create` operation within a\u001b[39;00m\n\u001b[0;32m    586\u001b[0m \u001b[38;5;124;03m    :class:`~py2neo.Transaction`.\u001b[39;00m\n\u001b[0;32m    587\u001b[0m \n\u001b[0;32m    588\u001b[0m \u001b[38;5;124;03m    :param subgraph: a :class:`.Node`, :class:`.Relationship` or other\u001b[39;00m\n\u001b[0;32m    589\u001b[0m \u001b[38;5;124;03m                   :class:`.Subgraph`\u001b[39;00m\n\u001b[0;32m    590\u001b[0m \u001b[38;5;124;03m    \"\"\"\u001b[39;00m\n\u001b[1;32m--> 591\u001b[0m     \u001b[38;5;28;43mself\u001b[39;49m\u001b[38;5;241;43m.\u001b[39;49m\u001b[43mupdate\u001b[49m\u001b[43m(\u001b[49m\u001b[38;5;28;43;01mlambda\u001b[39;49;00m\u001b[43m \u001b[49m\u001b[43mtx\u001b[49m\u001b[43m:\u001b[49m\u001b[43m \u001b[49m\u001b[43mtx\u001b[49m\u001b[38;5;241;43m.\u001b[39;49m\u001b[43mcreate\u001b[49m\u001b[43m(\u001b[49m\u001b[43msubgraph\u001b[49m\u001b[43m)\u001b[49m\u001b[43m)\u001b[49m\n",
      "File \u001b[1;32mc:\\Users\\lawfu\\AppData\\Local\\Programs\\Python\\Python39\\lib\\site-packages\\py2neo\\database.py:445\u001b[0m, in \u001b[0;36mGraph.update\u001b[1;34m(self, cypher, parameters, timeout)\u001b[0m\n\u001b[0;32m    443\u001b[0m \u001b[38;5;28;01mif\u001b[39;00m \u001b[38;5;28mcallable\u001b[39m(cypher):\n\u001b[0;32m    444\u001b[0m     \u001b[38;5;28;01mif\u001b[39;00m parameters \u001b[38;5;129;01mis\u001b[39;00m \u001b[38;5;28;01mNone\u001b[39;00m:\n\u001b[1;32m--> 445\u001b[0m         \u001b[38;5;28;43mself\u001b[39;49m\u001b[38;5;241;43m.\u001b[39;49m\u001b[43m_update\u001b[49m\u001b[43m(\u001b[49m\u001b[43mcypher\u001b[49m\u001b[43m,\u001b[49m\u001b[43m \u001b[49m\u001b[43mtimeout\u001b[49m\u001b[38;5;241;43m=\u001b[39;49m\u001b[43mtimeout\u001b[49m\u001b[43m)\u001b[49m\n\u001b[0;32m    446\u001b[0m     \u001b[38;5;28;01melif\u001b[39;00m (\u001b[38;5;28misinstance\u001b[39m(parameters, \u001b[38;5;28mtuple\u001b[39m) \u001b[38;5;129;01mand\u001b[39;00m \u001b[38;5;28mlen\u001b[39m(parameters) \u001b[38;5;241m==\u001b[39m \u001b[38;5;241m2\u001b[39m \u001b[38;5;129;01mand\u001b[39;00m\n\u001b[0;32m    447\u001b[0m             \u001b[38;5;28misinstance\u001b[39m(parameters[\u001b[38;5;241m0\u001b[39m], Sequence) \u001b[38;5;129;01mand\u001b[39;00m \u001b[38;5;28misinstance\u001b[39m(parameters[\u001b[38;5;241m1\u001b[39m], Mapping)):\n\u001b[0;32m    448\u001b[0m         \u001b[38;5;28mself\u001b[39m\u001b[38;5;241m.\u001b[39m_update(\u001b[38;5;28;01mlambda\u001b[39;00m tx: cypher(tx, \u001b[38;5;241m*\u001b[39mparameters[\u001b[38;5;241m0\u001b[39m], \u001b[38;5;241m*\u001b[39m\u001b[38;5;241m*\u001b[39mparameters[\u001b[38;5;241m1\u001b[39m]),\n\u001b[0;32m    449\u001b[0m                      timeout\u001b[38;5;241m=\u001b[39mtimeout)\n",
      "File \u001b[1;32mc:\\Users\\lawfu\\AppData\\Local\\Programs\\Python\\Python39\\lib\\site-packages\\py2neo\\database.py:467\u001b[0m, in \u001b[0;36mGraph._update\u001b[1;34m(self, f, timeout)\u001b[0m\n\u001b[0;32m    465\u001b[0m tx \u001b[38;5;241m=\u001b[39m \u001b[38;5;28;01mNone\u001b[39;00m\n\u001b[0;32m    466\u001b[0m \u001b[38;5;28;01mtry\u001b[39;00m:\n\u001b[1;32m--> 467\u001b[0m     tx \u001b[38;5;241m=\u001b[39m \u001b[38;5;28;43mself\u001b[39;49m\u001b[38;5;241;43m.\u001b[39;49m\u001b[43mbegin\u001b[49m\u001b[43m(\u001b[49m\n\u001b[0;32m    468\u001b[0m \u001b[43m                    \u001b[49m\u001b[38;5;66;43;03m# after=after, metadata=metadata, timeout=timeout\u001b[39;49;00m\n\u001b[0;32m    469\u001b[0m \u001b[43m                    \u001b[49m\u001b[43m)\u001b[49m\n\u001b[0;32m    470\u001b[0m     value \u001b[38;5;241m=\u001b[39m f(tx)\n\u001b[0;32m    471\u001b[0m     \u001b[38;5;28;01mif\u001b[39;00m isgenerator(value):\n",
      "File \u001b[1;32mc:\\Users\\lawfu\\AppData\\Local\\Programs\\Python\\Python39\\lib\\site-packages\\py2neo\\database.py:351\u001b[0m, in \u001b[0;36mGraph.begin\u001b[1;34m(self, readonly)\u001b[0m\n\u001b[0;32m    340\u001b[0m \u001b[38;5;28;01mdef\u001b[39;00m \u001b[38;5;21mbegin\u001b[39m(\u001b[38;5;28mself\u001b[39m, readonly\u001b[38;5;241m=\u001b[39m\u001b[38;5;28;01mFalse\u001b[39;00m,\n\u001b[0;32m    341\u001b[0m           \u001b[38;5;66;03m# after=None, metadata=None, timeout=None\u001b[39;00m\n\u001b[0;32m    342\u001b[0m           ):\n\u001b[0;32m    343\u001b[0m \u001b[38;5;250m    \u001b[39m\u001b[38;5;124;03m\"\"\" Begin a new :class:`~py2neo.Transaction`.\u001b[39;00m\n\u001b[0;32m    344\u001b[0m \n\u001b[0;32m    345\u001b[0m \u001b[38;5;124;03m    :param readonly: if :py:const:`True`, will begin a readonly\u001b[39;00m\n\u001b[1;32m   (...)\u001b[0m\n\u001b[0;32m    349\u001b[0m \u001b[38;5;124;03m    removed. Use the 'auto' method instead.*\u001b[39;00m\n\u001b[0;32m    350\u001b[0m \u001b[38;5;124;03m    \"\"\"\u001b[39;00m\n\u001b[1;32m--> 351\u001b[0m     \u001b[38;5;28;01mreturn\u001b[39;00m \u001b[43mTransaction\u001b[49m\u001b[43m(\u001b[49m\u001b[38;5;28;43mself\u001b[39;49m\u001b[43m,\u001b[49m\u001b[43m \u001b[49m\u001b[43mautocommit\u001b[49m\u001b[38;5;241;43m=\u001b[39;49m\u001b[38;5;28;43;01mFalse\u001b[39;49;00m\u001b[43m,\u001b[49m\u001b[43m \u001b[49m\u001b[43mreadonly\u001b[49m\u001b[38;5;241;43m=\u001b[39;49m\u001b[43mreadonly\u001b[49m\u001b[43m,\u001b[49m\n\u001b[0;32m    352\u001b[0m \u001b[43m                       \u001b[49m\u001b[38;5;66;43;03m# after, metadata, timeout\u001b[39;49;00m\n\u001b[0;32m    353\u001b[0m \u001b[43m                       \u001b[49m\u001b[43m)\u001b[49m\n",
      "File \u001b[1;32mc:\\Users\\lawfu\\AppData\\Local\\Programs\\Python\\Python39\\lib\\site-packages\\py2neo\\database.py:915\u001b[0m, in \u001b[0;36mTransaction.__init__\u001b[1;34m(self, graph, autocommit, readonly)\u001b[0m\n\u001b[0;32m    913\u001b[0m     \u001b[38;5;28mself\u001b[39m\u001b[38;5;241m.\u001b[39m_ref \u001b[38;5;241m=\u001b[39m \u001b[38;5;28;01mNone\u001b[39;00m\n\u001b[0;32m    914\u001b[0m \u001b[38;5;28;01melse\u001b[39;00m:\n\u001b[1;32m--> 915\u001b[0m     \u001b[38;5;28mself\u001b[39m\u001b[38;5;241m.\u001b[39m_ref \u001b[38;5;241m=\u001b[39m \u001b[38;5;28;43mself\u001b[39;49m\u001b[38;5;241;43m.\u001b[39;49m\u001b[43m_connector\u001b[49m\u001b[38;5;241;43m.\u001b[39;49m\u001b[43mbegin\u001b[49m\u001b[43m(\u001b[49m\u001b[38;5;28;43mself\u001b[39;49m\u001b[38;5;241;43m.\u001b[39;49m\u001b[43mgraph\u001b[49m\u001b[38;5;241;43m.\u001b[39;49m\u001b[43mname\u001b[49m\u001b[43m,\u001b[49m\u001b[43m \u001b[49m\u001b[43mreadonly\u001b[49m\u001b[38;5;241;43m=\u001b[39;49m\u001b[43mreadonly\u001b[49m\u001b[43m,\u001b[49m\n\u001b[0;32m    916\u001b[0m \u001b[43m                                      \u001b[49m\u001b[38;5;66;43;03m# after, metadata, timeout\u001b[39;49;00m\n\u001b[0;32m    917\u001b[0m \u001b[43m                                      \u001b[49m\u001b[43m)\u001b[49m\n\u001b[0;32m    918\u001b[0m \u001b[38;5;28mself\u001b[39m\u001b[38;5;241m.\u001b[39m_readonly \u001b[38;5;241m=\u001b[39m readonly\n\u001b[0;32m    919\u001b[0m \u001b[38;5;28mself\u001b[39m\u001b[38;5;241m.\u001b[39m_closed \u001b[38;5;241m=\u001b[39m \u001b[38;5;28;01mFalse\u001b[39;00m\n",
      "File \u001b[1;32mc:\\Users\\lawfu\\AppData\\Local\\Programs\\Python\\Python39\\lib\\site-packages\\py2neo\\client\\__init__.py:1357\u001b[0m, in \u001b[0;36mConnector.begin\u001b[1;34m(self, graph_name, readonly)\u001b[0m\n\u001b[0;32m   1345\u001b[0m \u001b[38;5;28;01mdef\u001b[39;00m \u001b[38;5;21mbegin\u001b[39m(\u001b[38;5;28mself\u001b[39m, graph_name, readonly\u001b[38;5;241m=\u001b[39m\u001b[38;5;28;01mFalse\u001b[39;00m,\n\u001b[0;32m   1346\u001b[0m           \u001b[38;5;66;03m# after=None, metadata=None, timeout=None\u001b[39;00m\n\u001b[0;32m   1347\u001b[0m           ):\n\u001b[0;32m   1348\u001b[0m \u001b[38;5;250m    \u001b[39m\u001b[38;5;124;03m\"\"\" Begin a new explicit transaction.\u001b[39;00m\n\u001b[0;32m   1349\u001b[0m \n\u001b[0;32m   1350\u001b[0m \u001b[38;5;124;03m    :param graph_name:\u001b[39;00m\n\u001b[1;32m   (...)\u001b[0m\n\u001b[0;32m   1355\u001b[0m \u001b[38;5;124;03m    :raises Failure: if the server signals a failure condition\u001b[39;00m\n\u001b[0;32m   1356\u001b[0m \u001b[38;5;124;03m    \"\"\"\u001b[39;00m\n\u001b[1;32m-> 1357\u001b[0m     cx \u001b[38;5;241m=\u001b[39m \u001b[38;5;28;43mself\u001b[39;49m\u001b[38;5;241;43m.\u001b[39;49m\u001b[43m_acquire\u001b[49m\u001b[43m(\u001b[49m\u001b[43mgraph_name\u001b[49m\u001b[43m)\u001b[49m\n\u001b[0;32m   1358\u001b[0m     \u001b[38;5;28;01mtry\u001b[39;00m:\n\u001b[0;32m   1359\u001b[0m         \u001b[38;5;28;01mreturn\u001b[39;00m cx\u001b[38;5;241m.\u001b[39mbegin(graph_name, readonly\u001b[38;5;241m=\u001b[39mreadonly,\n\u001b[0;32m   1360\u001b[0m                         \u001b[38;5;66;03m# after=after, metadata=metadata, timeout=timeout\u001b[39;00m\n\u001b[0;32m   1361\u001b[0m                         )\n",
      "File \u001b[1;32mc:\\Users\\lawfu\\AppData\\Local\\Programs\\Python\\Python39\\lib\\site-packages\\py2neo\\client\\__init__.py:1111\u001b[0m, in \u001b[0;36mConnector._acquire\u001b[1;34m(self, graph_name, readonly)\u001b[0m\n\u001b[0;32m   1109\u001b[0m     \u001b[38;5;28;01mreturn\u001b[39;00m \u001b[38;5;28mself\u001b[39m\u001b[38;5;241m.\u001b[39m_acquire_ro(graph_name)\n\u001b[0;32m   1110\u001b[0m \u001b[38;5;28;01melse\u001b[39;00m:\n\u001b[1;32m-> 1111\u001b[0m     \u001b[38;5;28;01mreturn\u001b[39;00m \u001b[38;5;28;43mself\u001b[39;49m\u001b[38;5;241;43m.\u001b[39;49m\u001b[43m_acquire_rw\u001b[49m\u001b[43m(\u001b[49m\u001b[43mgraph_name\u001b[49m\u001b[43m)\u001b[49m\n",
      "File \u001b[1;32mc:\\Users\\lawfu\\AppData\\Local\\Programs\\Python\\Python39\\lib\\site-packages\\py2neo\\client\\__init__.py:1203\u001b[0m, in \u001b[0;36mConnector._acquire_rw\u001b[1;34m(self, graph_name)\u001b[0m\n\u001b[0;32m   1199\u001b[0m \u001b[38;5;66;03m# TODO: exit immediately if the server/cluster is in readonly mode\u001b[39;00m\n\u001b[0;32m   1201\u001b[0m \u001b[38;5;28;01mwhile\u001b[39;00m \u001b[38;5;28;01mTrue\u001b[39;00m:\n\u001b[1;32m-> 1203\u001b[0m     ro_profiles, rw_profiles \u001b[38;5;241m=\u001b[39m \u001b[38;5;28;43mself\u001b[39;49m\u001b[38;5;241;43m.\u001b[39;49m\u001b[43m_get_profiles\u001b[49m\u001b[43m(\u001b[49m\u001b[43mgraph_name\u001b[49m\u001b[43m,\u001b[49m\u001b[43m \u001b[49m\u001b[43mreadonly\u001b[49m\u001b[38;5;241;43m=\u001b[39;49m\u001b[38;5;28;43;01mFalse\u001b[39;49;00m\u001b[43m)\u001b[49m\n\u001b[0;32m   1204\u001b[0m     \u001b[38;5;28;01mif\u001b[39;00m rw_profiles:\n\u001b[0;32m   1205\u001b[0m         \u001b[38;5;66;03m# There is at least one writer, so collect the pools\u001b[39;00m\n\u001b[0;32m   1206\u001b[0m         \u001b[38;5;66;03m# for those writers. In all implementations to date,\u001b[39;00m\n\u001b[0;32m   1207\u001b[0m         \u001b[38;5;66;03m# a Neo4j cluster will only ever contain at most one\u001b[39;00m\n\u001b[0;32m   1208\u001b[0m         \u001b[38;5;66;03m# writer (per database). But this algorithm should\u001b[39;00m\n\u001b[0;32m   1209\u001b[0m         \u001b[38;5;66;03m# still survive if that changes.\u001b[39;00m\n\u001b[0;32m   1210\u001b[0m         pools \u001b[38;5;241m=\u001b[39m [pool \u001b[38;5;28;01mfor\u001b[39;00m profile, pool \u001b[38;5;129;01min\u001b[39;00m \u001b[38;5;28mlist\u001b[39m(\u001b[38;5;28mself\u001b[39m\u001b[38;5;241m.\u001b[39m_pools\u001b[38;5;241m.\u001b[39mitems())\n\u001b[0;32m   1211\u001b[0m                  \u001b[38;5;28;01mif\u001b[39;00m profile \u001b[38;5;129;01min\u001b[39;00m rw_profiles]\n",
      "File \u001b[1;32mc:\\Users\\lawfu\\AppData\\Local\\Programs\\Python\\Python39\\lib\\site-packages\\py2neo\\client\\__init__.py:1016\u001b[0m, in \u001b[0;36mConnector._get_profiles\u001b[1;34m(self, graph_name, readonly)\u001b[0m\n\u001b[0;32m   1014\u001b[0m         rt\u001b[38;5;241m.\u001b[39mwait_until_updated()\n\u001b[0;32m   1015\u001b[0m \u001b[38;5;28;01melse\u001b[39;00m:\n\u001b[1;32m-> 1016\u001b[0m     \u001b[38;5;28;43mself\u001b[39;49m\u001b[38;5;241;43m.\u001b[39;49m\u001b[43mrefresh_routing_table\u001b[49m\u001b[43m(\u001b[49m\u001b[43mgraph_name\u001b[49m\u001b[43m)\u001b[49m\n",
      "File \u001b[1;32mc:\\Users\\lawfu\\AppData\\Local\\Programs\\Python\\Python39\\lib\\site-packages\\py2neo\\client\\__init__.py:1064\u001b[0m, in \u001b[0;36mConnector.refresh_routing_table\u001b[1;34m(self, graph_name)\u001b[0m\n\u001b[0;32m   1062\u001b[0m                 cx\u001b[38;5;241m.\u001b[39mrelease()\n\u001b[0;32m   1063\u001b[0m     \u001b[38;5;28;01melse\u001b[39;00m:\n\u001b[1;32m-> 1064\u001b[0m         \u001b[38;5;28;01mraise\u001b[39;00m ServiceUnavailable(\u001b[38;5;124m\"\u001b[39m\u001b[38;5;124mCannot connect to any known routers\u001b[39m\u001b[38;5;124m\"\u001b[39m)\n\u001b[0;32m   1065\u001b[0m \u001b[38;5;28;01mfinally\u001b[39;00m:\n\u001b[0;32m   1066\u001b[0m     rt\u001b[38;5;241m.\u001b[39mset_not_updating()\n",
      "\u001b[1;31mServiceUnavailable\u001b[0m: Cannot connect to any known routers"
     ]
    }
   ],
   "source": [
    "# loading the pickle files takes 15m\n",
    "kg_loader.load_knowledge_graph(reset=False, start_at_row=53000, end_at_row=start_at_row)"
   ]
  },
  {
   "cell_type": "markdown",
   "metadata": {},
   "source": [
    "### Build Additional Details with LLM and Cypher queries"
   ]
  },
  {
   "cell_type": "code",
   "execution_count": 1,
   "metadata": {},
   "outputs": [
    {
     "ename": "ModuleNotFoundError",
     "evalue": "No module named 'utils'",
     "output_type": "error",
     "traceback": [
      "\u001b[1;31m---------------------------------------------------------------------------\u001b[0m",
      "\u001b[1;31mModuleNotFoundError\u001b[0m                       Traceback (most recent call last)",
      "Cell \u001b[1;32mIn[1], line 1\u001b[0m\n\u001b[1;32m----> 1\u001b[0m \u001b[38;5;28;01mfrom\u001b[39;00m \u001b[38;5;21;01mapp\u001b[39;00m\u001b[38;5;21;01m.\u001b[39;00m\u001b[38;5;21;01mllm_handler\u001b[39;00m \u001b[38;5;28;01mimport\u001b[39;00m LLMHandler, AvailableLLMs\n\u001b[0;32m      3\u001b[0m PROMPT_CYPHER_WRITE\u001b[38;5;241m=\u001b[39m \u001b[38;5;124m\"\"\"\u001b[39m\n\u001b[0;32m      4\u001b[0m \u001b[38;5;124m\"\u001b[39m\u001b[38;5;124mExtract key points of the given item from its description (such as color, material(s), brand name, manufacturer, product line, or others) and edit the Cypher query below to add the key points to the graph. Return only the edited Cypher query.\u001b[39m\n\u001b[0;32m      5\u001b[0m \n\u001b[1;32m   (...)\u001b[0m\n\u001b[0;32m     12\u001b[0m \u001b[38;5;124madd new connection or create a new node with the property.\u001b[39m\n\u001b[0;32m     13\u001b[0m \u001b[38;5;124m\"\"\"\u001b[39m\n\u001b[0;32m     15\u001b[0m csv_file \u001b[38;5;241m=\u001b[39m \u001b[38;5;124m\"\u001b[39m\u001b[38;5;124msample_data/giftcard.csv\u001b[39m\u001b[38;5;124m\"\u001b[39m \n",
      "File \u001b[1;32mc:\\Users\\lawfu\\Documents\\_Library\\_School\\SJSU MS Data Analytics\\202403_Fall_DATA-298B_FinalProject\\KGRecommender\\app\\llm_handler.py:9\u001b[0m\n\u001b[0;32m      6\u001b[0m \u001b[38;5;28;01mimport\u001b[39;00m \u001b[38;5;21;01mvertexai\u001b[39;00m\n\u001b[0;32m      7\u001b[0m \u001b[38;5;28;01mfrom\u001b[39;00m \u001b[38;5;21;01mvertexai\u001b[39;00m\u001b[38;5;21;01m.\u001b[39;00m\u001b[38;5;21;01mgenerative_models\u001b[39;00m \u001b[38;5;28;01mimport\u001b[39;00m GenerativeModel\n\u001b[1;32m----> 9\u001b[0m \u001b[38;5;28;01mfrom\u001b[39;00m \u001b[38;5;21;01mutils\u001b[39;00m\u001b[38;5;21;01m.\u001b[39;00m\u001b[38;5;21;01mrag_constants\u001b[39;00m \u001b[38;5;28;01mimport\u001b[39;00m PROJECT_ID, GEMINI_MODEL_REGION, GEMINI_MODEL, FLANT5_MODEL_REGION\n\u001b[0;32m     10\u001b[0m \u001b[38;5;28;01mfrom\u001b[39;00m \u001b[38;5;21;01mutils\u001b[39;00m\u001b[38;5;21;01m.\u001b[39;00m\u001b[38;5;21;01mrag_constants\u001b[39;00m \u001b[38;5;28;01mimport\u001b[39;00m Mode, MODEL_MODE\n\u001b[0;32m     11\u001b[0m \u001b[38;5;28;01mfrom\u001b[39;00m \u001b[38;5;21;01mutils\u001b[39;00m\u001b[38;5;21;01m.\u001b[39;00m\u001b[38;5;21;01mrag_constants\u001b[39;00m \u001b[38;5;28;01mimport\u001b[39;00m LLAMA_API_KEY, LLAMA_ENDPOINT\n",
      "\u001b[1;31mModuleNotFoundError\u001b[0m: No module named 'utils'"
     ]
    }
   ],
   "source": [
    "from app.llm_handler import LLMHandler, AvailableLLMs\n",
    "\n",
    "PROMPT_CYPHER_WRITE= \"\"\"\n",
    "\"Extract key points of the given item from its description (such as color, material(s), brand name, manufacturer, product line, or others) and edit the Cypher query below to add the key points to the graph. Return only the edited Cypher query.\n",
    "\n",
    "User query:\n",
    "{user_query}\n",
    "\n",
    "Cypher query:\n",
    "MATCH (n)\n",
    "WHERE n.title = {item}\n",
    "add new connection or create a new node with the property.\n",
    "\"\"\"\n",
    "\n",
    "csv_file = \"sample_data/giftcard.csv\" \n",
    "\n",
    "model_prompt = user_query\n",
    "print(f\"Model prompt: {model_prompt}\")\n",
    "llm_handler = LLMHandler(AvailableLLMs.FLANT5)\n",
    "llm_handler.prompt_llm(model_prompt)"
   ]
  }
 ],
 "metadata": {
  "kernelspec": {
   "display_name": "Python 3",
   "language": "python",
   "name": "python3"
  },
  "language_info": {
   "codemirror_mode": {
    "name": "ipython",
    "version": 3
   },
   "file_extension": ".py",
   "mimetype": "text/x-python",
   "name": "python",
   "nbconvert_exporter": "python",
   "pygments_lexer": "ipython3",
   "version": "3.9.13"
  }
 },
 "nbformat": 4,
 "nbformat_minor": 2
}
