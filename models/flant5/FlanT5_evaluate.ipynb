{
 "cells": [
  {
   "cell_type": "code",
   "execution_count": 59,
   "id": "13fdad85-f23f-46fd-8933-f3af43da4e0a",
   "metadata": {},
   "outputs": [
    {
     "name": "stdout",
     "output_type": "stream",
     "text": [
      "Requirement already satisfied: rouge in c:\\users\\lawfu\\appdata\\local\\programs\\python\\python39\\lib\\site-packages (1.0.1)\n",
      "Requirement already satisfied: six in c:\\users\\lawfu\\appdata\\local\\programs\\python\\python39\\lib\\site-packages (from rouge) (1.16.0)\n"
     ]
    }
   ],
   "source": [
    "# for data evaluation\n",
    "!pip install rouge"
   ]
  },
  {
   "cell_type": "markdown",
   "id": "76a6c3ab-5591-4b71-9395-0d5d8c220e16",
   "metadata": {},
   "source": [
    "## Data Preprocessing"
   ]
  },
  {
   "cell_type": "code",
   "execution_count": 31,
   "id": "206204e9-ba11-4b0b-91ac-951bc23554b1",
   "metadata": {},
   "outputs": [],
   "source": [
    "import pandas as pd\n",
    "import numpy\n",
    "\n",
    "DEBUG = False\n",
    "\n",
    "def print_debug(text):\n",
    "    if DEBUG:\n",
    "        print(text)"
   ]
  },
  {
   "cell_type": "code",
   "execution_count": 3,
   "id": "a6beeafd-d4b2-47a1-bff5-b7f162edaf61",
   "metadata": {},
   "outputs": [],
   "source": [
    "import json\n",
    "import io\n",
    "\n",
    "FILE = \"sample_data_only_beauty_category.json\"\n",
    "\n",
    "with open(FILE, \"r\") as f:\n",
    "    file_contents = f.read()\n",
    "\n",
    "# Clean up malformed items like \"Shipping Weight:\": \"14.4 ounces (\"\n",
    "file_contents = file_contents.replace(\" (\\\" \",\"\")\n",
    "\n",
    "# wrap the raw string in a StringIO object for pandas.read_json()\n",
    "raw_data = io.StringIO(file_contents)"
   ]
  },
  {
   "cell_type": "code",
   "execution_count": 4,
   "id": "26101ab6-abf1-4b43-bfed-d46eaea2e97b",
   "metadata": {},
   "outputs": [
    {
     "data": {
      "text/html": [
       "<div>\n",
       "<style scoped>\n",
       "    .dataframe tbody tr th:only-of-type {\n",
       "        vertical-align: middle;\n",
       "    }\n",
       "\n",
       "    .dataframe tbody tr th {\n",
       "        vertical-align: top;\n",
       "    }\n",
       "\n",
       "    .dataframe thead th {\n",
       "        text-align: right;\n",
       "    }\n",
       "</style>\n",
       "<table border=\"1\" class=\"dataframe\">\n",
       "  <thead>\n",
       "    <tr style=\"text-align: right;\">\n",
       "      <th></th>\n",
       "      <th>category</th>\n",
       "      <th>tech1</th>\n",
       "      <th>description</th>\n",
       "      <th>fit</th>\n",
       "      <th>title</th>\n",
       "      <th>also_buy</th>\n",
       "      <th>tech2</th>\n",
       "      <th>brand</th>\n",
       "      <th>feature</th>\n",
       "      <th>rank</th>\n",
       "      <th>also_view</th>\n",
       "      <th>details</th>\n",
       "      <th>main_cat</th>\n",
       "      <th>similar_item</th>\n",
       "      <th>date</th>\n",
       "      <th>price</th>\n",
       "      <th>asin</th>\n",
       "      <th>imageURL</th>\n",
       "      <th>imageURLHighRes</th>\n",
       "    </tr>\n",
       "  </thead>\n",
       "  <tbody>\n",
       "    <tr>\n",
       "      <th>0</th>\n",
       "      <td>[]</td>\n",
       "      <td></td>\n",
       "      <td>[After a long day of handling thorny situation...</td>\n",
       "      <td></td>\n",
       "      <td>Crabtree &amp;amp; Evelyn - Gardener's Ultra-Moist...</td>\n",
       "      <td>[B00GHX7H0A, B00FRERO7G, B00R68QXCS, B000Z65AZ...</td>\n",
       "      <td></td>\n",
       "      <td></td>\n",
       "      <td>[]</td>\n",
       "      <td>4,324 in Beauty &amp; Personal Care (</td>\n",
       "      <td>[B00FRERO7G, B00GHX7H0A, B07GFHJRMX, B00TJ3NBN...</td>\n",
       "      <td>{'\n",
       "    Product Dimensions: \n",
       "    ': '2.2 x 2.2 ...</td>\n",
       "      <td>Luxury Beauty</td>\n",
       "      <td></td>\n",
       "      <td>NaT</td>\n",
       "      <td>$30.00</td>\n",
       "      <td>B00004U9V2</td>\n",
       "      <td>[https://images-na.ssl-images-amazon.com/image...</td>\n",
       "      <td>[https://images-na.ssl-images-amazon.com/image...</td>\n",
       "    </tr>\n",
       "    <tr>\n",
       "      <th>1</th>\n",
       "      <td>[]</td>\n",
       "      <td></td>\n",
       "      <td>[If you haven't experienced the pleasures of b...</td>\n",
       "      <td></td>\n",
       "      <td>AHAVA Bath Salts</td>\n",
       "      <td>[]</td>\n",
       "      <td></td>\n",
       "      <td></td>\n",
       "      <td>[]</td>\n",
       "      <td>1,633,549 in Beauty &amp; Personal Care (</td>\n",
       "      <td>[]</td>\n",
       "      <td>{'\n",
       "    Product Dimensions: \n",
       "    ': '3 x 3.5 x ...</td>\n",
       "      <td>Luxury Beauty</td>\n",
       "      <td></td>\n",
       "      <td>NaT</td>\n",
       "      <td></td>\n",
       "      <td>B0000531EN</td>\n",
       "      <td>[]</td>\n",
       "      <td>[]</td>\n",
       "    </tr>\n",
       "    <tr>\n",
       "      <th>2</th>\n",
       "      <td>[]</td>\n",
       "      <td></td>\n",
       "      <td>[Rich, black mineral mud, harvested from the b...</td>\n",
       "      <td></td>\n",
       "      <td>AHAVA Dead Sea Mineral Mud, 8.5 oz, Pack of 4</td>\n",
       "      <td>[]</td>\n",
       "      <td></td>\n",
       "      <td></td>\n",
       "      <td>[]</td>\n",
       "      <td>1,806,710 in Beauty &amp;amp; Personal Care (</td>\n",
       "      <td>[]</td>\n",
       "      <td>{'\n",
       "    Product Dimensions: \n",
       "    ': '5.1 x 3 x ...</td>\n",
       "      <td>Luxury Beauty</td>\n",
       "      <td></td>\n",
       "      <td>NaT</td>\n",
       "      <td></td>\n",
       "      <td>B0000532JH</td>\n",
       "      <td>[https://images-na.ssl-images-amazon.com/image...</td>\n",
       "      <td>[https://images-na.ssl-images-amazon.com/image...</td>\n",
       "    </tr>\n",
       "    <tr>\n",
       "      <th>3</th>\n",
       "      <td>[]</td>\n",
       "      <td></td>\n",
       "      <td>[This liquid soap with convenient pump dispens...</td>\n",
       "      <td></td>\n",
       "      <td>Crabtree &amp;amp; Evelyn Hand Soap, Gardeners, 10...</td>\n",
       "      <td>[]</td>\n",
       "      <td></td>\n",
       "      <td></td>\n",
       "      <td>[]</td>\n",
       "      <td>[]</td>\n",
       "      <td>[B00004U9V2, B00GHX7H0A, B00FRERO7G, B00R68QXC...</td>\n",
       "      <td>{'\n",
       "    Product Dimensions: \n",
       "    ': '2.6 x 2.6 ...</td>\n",
       "      <td>Luxury Beauty</td>\n",
       "      <td></td>\n",
       "      <td>NaT</td>\n",
       "      <td>$15.99</td>\n",
       "      <td>B00005A77F</td>\n",
       "      <td>[https://images-na.ssl-images-amazon.com/image...</td>\n",
       "      <td>[https://images-na.ssl-images-amazon.com/image...</td>\n",
       "    </tr>\n",
       "    <tr>\n",
       "      <th>4</th>\n",
       "      <td>[]</td>\n",
       "      <td></td>\n",
       "      <td>[Remember why you love your favorite blanket? ...</td>\n",
       "      <td></td>\n",
       "      <td>Soy Milk Hand Crme</td>\n",
       "      <td>[B000NZT6KM, B001BY229Q, B008J724QY, B0009YGKJ...</td>\n",
       "      <td></td>\n",
       "      <td></td>\n",
       "      <td>[]</td>\n",
       "      <td>42,464 in Beauty &amp;amp; Personal Care (</td>\n",
       "      <td>[]</td>\n",
       "      <td>{'\n",
       "    Product Dimensions: \n",
       "    ': '7.2 x 2.2 ...</td>\n",
       "      <td>Luxury Beauty</td>\n",
       "      <td></td>\n",
       "      <td>NaT</td>\n",
       "      <td>$18.00</td>\n",
       "      <td>B00005NDTD</td>\n",
       "      <td>[https://images-na.ssl-images-amazon.com/image...</td>\n",
       "      <td>[https://images-na.ssl-images-amazon.com/image...</td>\n",
       "    </tr>\n",
       "  </tbody>\n",
       "</table>\n",
       "</div>"
      ],
      "text/plain": [
       "  category tech1                                        description fit  \\\n",
       "0       []        [After a long day of handling thorny situation...       \n",
       "1       []        [If you haven't experienced the pleasures of b...       \n",
       "2       []        [Rich, black mineral mud, harvested from the b...       \n",
       "3       []        [This liquid soap with convenient pump dispens...       \n",
       "4       []        [Remember why you love your favorite blanket? ...       \n",
       "\n",
       "                                               title  \\\n",
       "0  Crabtree &amp; Evelyn - Gardener's Ultra-Moist...   \n",
       "1                                   AHAVA Bath Salts   \n",
       "2      AHAVA Dead Sea Mineral Mud, 8.5 oz, Pack of 4   \n",
       "3  Crabtree &amp; Evelyn Hand Soap, Gardeners, 10...   \n",
       "4                                 Soy Milk Hand Crme   \n",
       "\n",
       "                                            also_buy tech2 brand feature  \\\n",
       "0  [B00GHX7H0A, B00FRERO7G, B00R68QXCS, B000Z65AZ...                  []   \n",
       "1                                                 []                  []   \n",
       "2                                                 []                  []   \n",
       "3                                                 []                  []   \n",
       "4  [B000NZT6KM, B001BY229Q, B008J724QY, B0009YGKJ...                  []   \n",
       "\n",
       "                                        rank  \\\n",
       "0          4,324 in Beauty & Personal Care (   \n",
       "1      1,633,549 in Beauty & Personal Care (   \n",
       "2  1,806,710 in Beauty &amp; Personal Care (   \n",
       "3                                         []   \n",
       "4     42,464 in Beauty &amp; Personal Care (   \n",
       "\n",
       "                                           also_view  \\\n",
       "0  [B00FRERO7G, B00GHX7H0A, B07GFHJRMX, B00TJ3NBN...   \n",
       "1                                                 []   \n",
       "2                                                 []   \n",
       "3  [B00004U9V2, B00GHX7H0A, B00FRERO7G, B00R68QXC...   \n",
       "4                                                 []   \n",
       "\n",
       "                                             details       main_cat  \\\n",
       "0  {'\n",
       "    Product Dimensions: \n",
       "    ': '2.2 x 2.2 ...  Luxury Beauty   \n",
       "1  {'\n",
       "    Product Dimensions: \n",
       "    ': '3 x 3.5 x ...  Luxury Beauty   \n",
       "2  {'\n",
       "    Product Dimensions: \n",
       "    ': '5.1 x 3 x ...  Luxury Beauty   \n",
       "3  {'\n",
       "    Product Dimensions: \n",
       "    ': '2.6 x 2.6 ...  Luxury Beauty   \n",
       "4  {'\n",
       "    Product Dimensions: \n",
       "    ': '7.2 x 2.2 ...  Luxury Beauty   \n",
       "\n",
       "  similar_item date   price        asin  \\\n",
       "0               NaT  $30.00  B00004U9V2   \n",
       "1               NaT          B0000531EN   \n",
       "2               NaT          B0000532JH   \n",
       "3               NaT  $15.99  B00005A77F   \n",
       "4               NaT  $18.00  B00005NDTD   \n",
       "\n",
       "                                            imageURL  \\\n",
       "0  [https://images-na.ssl-images-amazon.com/image...   \n",
       "1                                                 []   \n",
       "2  [https://images-na.ssl-images-amazon.com/image...   \n",
       "3  [https://images-na.ssl-images-amazon.com/image...   \n",
       "4  [https://images-na.ssl-images-amazon.com/image...   \n",
       "\n",
       "                                     imageURLHighRes  \n",
       "0  [https://images-na.ssl-images-amazon.com/image...  \n",
       "1                                                 []  \n",
       "2  [https://images-na.ssl-images-amazon.com/image...  \n",
       "3  [https://images-na.ssl-images-amazon.com/image...  \n",
       "4  [https://images-na.ssl-images-amazon.com/image...  "
      ]
     },
     "execution_count": 4,
     "metadata": {},
     "output_type": "execute_result"
    }
   ],
   "source": [
    "#a = json.loads(text, strict=False)\n",
    "\n",
    "df_raw = pd.read_json(raw_data)\n",
    "df_raw.head()"
   ]
  },
  {
   "cell_type": "markdown",
   "id": "5be19038-7eb8-47d4-b4b1-2194a95daef6",
   "metadata": {},
   "source": [
    "## Data Transformation"
   ]
  },
  {
   "cell_type": "code",
   "execution_count": 5,
   "id": "046500a9-5b57-4f70-8271-6a5666fd116b",
   "metadata": {},
   "outputs": [
    {
     "data": {
      "text/html": [
       "<div>\n",
       "<style scoped>\n",
       "    .dataframe tbody tr th:only-of-type {\n",
       "        vertical-align: middle;\n",
       "    }\n",
       "\n",
       "    .dataframe tbody tr th {\n",
       "        vertical-align: top;\n",
       "    }\n",
       "\n",
       "    .dataframe thead th {\n",
       "        text-align: right;\n",
       "    }\n",
       "</style>\n",
       "<table border=\"1\" class=\"dataframe\">\n",
       "  <thead>\n",
       "    <tr style=\"text-align: right;\">\n",
       "      <th></th>\n",
       "      <th>title</th>\n",
       "      <th>description</th>\n",
       "    </tr>\n",
       "  </thead>\n",
       "  <tbody>\n",
       "    <tr>\n",
       "      <th>0</th>\n",
       "      <td>Crabtree &amp;amp; Evelyn - Gardener's Ultra-Moist...</td>\n",
       "      <td>[After a long day of handling thorny situation...</td>\n",
       "    </tr>\n",
       "    <tr>\n",
       "      <th>1</th>\n",
       "      <td>AHAVA Bath Salts</td>\n",
       "      <td>[If you haven't experienced the pleasures of b...</td>\n",
       "    </tr>\n",
       "    <tr>\n",
       "      <th>2</th>\n",
       "      <td>AHAVA Dead Sea Mineral Mud, 8.5 oz, Pack of 4</td>\n",
       "      <td>[Rich, black mineral mud, harvested from the b...</td>\n",
       "    </tr>\n",
       "    <tr>\n",
       "      <th>3</th>\n",
       "      <td>Crabtree &amp;amp; Evelyn Hand Soap, Gardeners, 10...</td>\n",
       "      <td>[This liquid soap with convenient pump dispens...</td>\n",
       "    </tr>\n",
       "    <tr>\n",
       "      <th>4</th>\n",
       "      <td>Soy Milk Hand Crme</td>\n",
       "      <td>[Remember why you love your favorite blanket? ...</td>\n",
       "    </tr>\n",
       "  </tbody>\n",
       "</table>\n",
       "</div>"
      ],
      "text/plain": [
       "                                               title  \\\n",
       "0  Crabtree &amp; Evelyn - Gardener's Ultra-Moist...   \n",
       "1                                   AHAVA Bath Salts   \n",
       "2      AHAVA Dead Sea Mineral Mud, 8.5 oz, Pack of 4   \n",
       "3  Crabtree &amp; Evelyn Hand Soap, Gardeners, 10...   \n",
       "4                                 Soy Milk Hand Crme   \n",
       "\n",
       "                                         description  \n",
       "0  [After a long day of handling thorny situation...  \n",
       "1  [If you haven't experienced the pleasures of b...  \n",
       "2  [Rich, black mineral mud, harvested from the b...  \n",
       "3  [This liquid soap with convenient pump dispens...  \n",
       "4  [Remember why you love your favorite blanket? ...  "
      ]
     },
     "execution_count": 5,
     "metadata": {},
     "output_type": "execute_result"
    }
   ],
   "source": [
    "# The Flan-T5 model that I finetuned expects a CustomDataset, so we change the datset into the expected format\n",
    "\n",
    "df = pd.DataFrame(data=df_raw[[\"title\",\"description\"]])\n",
    "df['description'].replace('', np.nan, inplace=True)\n",
    "df.head()"
   ]
  },
  {
   "cell_type": "code",
   "execution_count": 6,
   "id": "0cc41607-2512-4c5c-8a5f-8b97c9b90780",
   "metadata": {},
   "outputs": [
    {
     "name": "stdout",
     "output_type": "stream",
     "text": [
      "Before:\n",
      "\n",
      "After a long day of handling thorny situations, our new hand therapy pump is just the help you need. It contains shea butter as well as extracts of yarrow, clover and calendula to help soothe and condition work-roughened hands.\n",
      "By Crabtree & Evelyn\n",
      "The aromatic benefits of herbs are varied and far-reaching, so we combined a whole bunch of them into one restoratively fragrant line-up straight from the garden.\n",
      "We&#039;ve formulated our Gardeners Hand Therapy with Myrrh Extract to help condition nails and cuticles as well as skin super hydrators macadamia seed oil and shea butter to help replenish lost moisture. Rich in herbal extracts like cooling cucumber and rosemary leaf  a favourite for antioxidants  to help protect hands against daily urban and environmental stresses while the hydrating power of Vitamin E, Hyaluronic Acid and Ceramides contribute to improve the skins natural moisture barrier with this garden-inspired treatment. Skin is left silky-soft and delicately scented.\n",
      "How to use:\n",
      "Dab a pea-sized amount to palms and work over skin and nails. Combine with Gardeners Hand Wash and Hand Scrub to get silky skin in three herb-infused steps.\n",
      "Originally created to appeal to a horticulturists wealth of knowledge about the healing power of herbs, this botanical range is formulated with cleansing cucumber extract, purifying rosemary extract, oak moss and refreshing sage extract.\n",
      "We search the world for natural ingredients and fragrance journeys that enable our customers to live a life cultivated. Inspired by the Crabapple Tree, the original species from which all cultivated apple trees have derived, and John Evelyn, the 17th century renaissance Englishman whose motto Explore Everything. Keep The Best has provided inspiration from our founding to this day.\n",
      "\n",
      "After:\n",
      "After a long day of handling thorny situations, our new hand therapy pump is just the help you need. It contains shea butter as well as extracts of yarrow, clover and calendula to help soothe and condition work-roughened hands.By Crabtree & EvelynThe aromatic benefits of herbs are varied and far-reaching, so we combined a whole bunch of them into one restoratively fragrant line-up straight from the garden.We&#039;ve formulated our Gardeners Hand Therapy with Myrrh Extract to help condition nails and cuticles as well as skin super hydrators macadamia seed oil and shea butter to help replenish lost moisture. Rich in herbal extracts like cooling cucumber and rosemary leaf  a favourite for antioxidants  to help protect hands against daily urban and environmental stresses while the hydrating power of Vitamin E, Hyaluronic Acid and Ceramides contribute to improve the skins natural moisture barrier with this garden-inspired treatment. Skin is left silky-soft and delicately scented.How to use:Dab a pea-sized amount to palms and work over skin and nails. Combine with Gardeners Hand Wash and Hand Scrub to get silky skin in three herb-infused steps.Originally created to appeal to a horticulturists wealth of knowledge about the healing power of herbs, this botanical range is formulated with cleansing cucumber extract, purifying rosemary extract, oak moss and refreshing sage extract.We search the world for natural ingredients and fragrance journeys that enable our customers to live a life cultivated. Inspired by the Crabapple Tree, the original species from which all cultivated apple trees have derived, and John Evelyn, the 17th century renaissance Englishman whose motto Explore Everything. Keep The Best has provided inspiration from our founding to this day.\n"
     ]
    },
    {
     "data": {
      "text/html": [
       "<div>\n",
       "<style scoped>\n",
       "    .dataframe tbody tr th:only-of-type {\n",
       "        vertical-align: middle;\n",
       "    }\n",
       "\n",
       "    .dataframe tbody tr th {\n",
       "        vertical-align: top;\n",
       "    }\n",
       "\n",
       "    .dataframe thead th {\n",
       "        text-align: right;\n",
       "    }\n",
       "</style>\n",
       "<table border=\"1\" class=\"dataframe\">\n",
       "  <thead>\n",
       "    <tr style=\"text-align: right;\">\n",
       "      <th></th>\n",
       "      <th>title</th>\n",
       "      <th>description</th>\n",
       "    </tr>\n",
       "  </thead>\n",
       "  <tbody>\n",
       "    <tr>\n",
       "      <th>0</th>\n",
       "      <td>Crabtree &amp;amp; Evelyn - Gardener's Ultra-Moist...</td>\n",
       "      <td>After a long day of handling thorny situations...</td>\n",
       "    </tr>\n",
       "    <tr>\n",
       "      <th>1</th>\n",
       "      <td>AHAVA Bath Salts</td>\n",
       "      <td>If you haven't experienced the pleasures of ba...</td>\n",
       "    </tr>\n",
       "    <tr>\n",
       "      <th>2</th>\n",
       "      <td>AHAVA Dead Sea Mineral Mud, 8.5 oz, Pack of 4</td>\n",
       "      <td>Rich, black mineral mud, harvested from the ba...</td>\n",
       "    </tr>\n",
       "    <tr>\n",
       "      <th>3</th>\n",
       "      <td>Crabtree &amp;amp; Evelyn Hand Soap, Gardeners, 10...</td>\n",
       "      <td>This liquid soap with convenient pump dispense...</td>\n",
       "    </tr>\n",
       "    <tr>\n",
       "      <th>4</th>\n",
       "      <td>Soy Milk Hand Crme</td>\n",
       "      <td>Remember why you love your favorite blanket? T...</td>\n",
       "    </tr>\n",
       "  </tbody>\n",
       "</table>\n",
       "</div>"
      ],
      "text/plain": [
       "                                               title  \\\n",
       "0  Crabtree &amp; Evelyn - Gardener's Ultra-Moist...   \n",
       "1                                   AHAVA Bath Salts   \n",
       "2      AHAVA Dead Sea Mineral Mud, 8.5 oz, Pack of 4   \n",
       "3  Crabtree &amp; Evelyn Hand Soap, Gardeners, 10...   \n",
       "4                                 Soy Milk Hand Crme   \n",
       "\n",
       "                                         description  \n",
       "0  After a long day of handling thorny situations...  \n",
       "1  If you haven't experienced the pleasures of ba...  \n",
       "2  Rich, black mineral mud, harvested from the ba...  \n",
       "3  This liquid soap with convenient pump dispense...  \n",
       "4  Remember why you love your favorite blanket? T...  "
      ]
     },
     "execution_count": 6,
     "metadata": {},
     "output_type": "execute_result"
    }
   ],
   "source": [
    "# combine description text (an array of strings) into one string\n",
    "\n",
    "a = df[\"description\"][0]\n",
    "print(f\"Before:\\n\")\n",
    "for i in a:\n",
    "    print(f\"{i}\")\n",
    "\n",
    "#df[\"description\"] = df[\"description\"].apply(literal_eval)\n",
    "#df[\"description\"] = np.concatenate(df[\"description\"])\n",
    "df[\"description\"] = df[\"description\"].apply(''.join)\n",
    "#a = np.concatenate(df[\"description\"])\n",
    "b = df[\"description\"][0]\n",
    "print(f\"\\nAfter:\\n{b}\")\n",
    "\n",
    "df.head()"
   ]
  },
  {
   "cell_type": "code",
   "execution_count": 7,
   "id": "d4768e35-f706-4904-ae77-a11e7bf49cb8",
   "metadata": {},
   "outputs": [
    {
     "name": "stdout",
     "output_type": "stream",
     "text": [
      "Before:\n",
      "Naturally stimulating essential oils make our Morning Mint Body Lotion an aromatherapy essential in your daily beauty ritual. Sought after by women and men alike, this best-selling, natural mint lotion makes the perfect gift.Welcome to the world of Archipelago Botanicals - where warm candlelight, exquisite fragrance, and soothing products make a house a home.Jump start each morning with a gentle boost from Mother Nature! Naturally invigorating essential oils, such as fresh basil and mandarin, awaken the senses and fill the shower with amazing notes of citrus and mint. There is no better way to start the day.<a class=\"a-link-normal\" target=\"_blank\" rel=\"noopener\" href=\"https://m.media-amazon.com/images/S/aplus-media/vc/e679f131-d7de-4b18-83b9-1af750842586.jpg\">\n",
      "            <img alt=\"\" src=\"https://m.media-amazon.com/images/S/aplus-media/vc/e679f131-d7de-4b18-83b9-1af750842586._SL220__.jpg\" />\n",
      "        </a><a class=\"a-link-normal\" target=\"_blank\" rel=\"noopener\" href=\"https://m.media-amazon.com/images/S/aplus-media/vc/0dd23a1d-1b26-4e4b-8233-55343c20b3f7.jpg\">\n",
      "            <img alt=\"\" src=\"https://m.media-amazon.com/images/S/aplus-media/vc/0dd23a1d-1b26-4e4b-8233-55343c20b3f7._SL220__.jpg\" />\n",
      "        </a><a class=\"a-link-normal\" target=\"_blank\" rel=\"noopener\" href=\"https://m.media-amazon.com/images/S/aplus-media/vc/3f107c0b-47f9-4c4d-99e6-07abdb64595c.jpg\">\n",
      "            <img alt=\"\" src=\"https://m.media-amazon.com/images/S/aplus-media/vc/3f107c0b-47f9-4c4d-99e6-07abdb64595c._SL220__.jpg\" />\n",
      "        </a><a class=\"a-link-normal\" target=\"_blank\" rel=\"noopener\" href=\"https://m.media-amazon.com/images/S/aplus-media/vc/566b5193-d380-40fb-9e7b-d8307e2b4879.jpg\">\n",
      "            <img alt=\"\" src=\"https://m.media-amazon.com/images/S/aplus-media/vc/566b5193-d380-40fb-9e7b-d8307e2b4879._SL220__.jpg\" />\n",
      "        </a>\n",
      "\n",
      "After:\n",
      "Naturally stimulating essential oils make our Morning Mint Body Lotion an aromatherapy essential in your daily beauty ritual. Sought after by women and men alike, this best-selling, natural mint lotion makes the perfect gift.Welcome to the world of Archipelago Botanicals - where warm candlelight, exquisite fragrance, and soothing products make a house a home.Jump start each morning with a gentle boost from Mother Nature! Naturally invigorating essential oils, such as fresh basil and mandarin, awaken the senses and fill the shower with amazing notes of citrus and mint. There is no better way to start the day.\n"
     ]
    }
   ],
   "source": [
    "# remove trailing images like img alt=\"\"\n",
    "a = df[\"description\"][9]\n",
    "print(f\"Before:\\n{a}\")\n",
    "\n",
    "df.replace({\"description\":\"<.*>\"}, {\"description\":\"\"}, regex=True, inplace=True)\n",
    "df.replace({\"description\":\"[\\n\\t ]*$\"}, {\"description\":\"\"}, regex=True, inplace=True) # Trim trailing blank text\n",
    "\n",
    "b = df[\"description\"][9]\n",
    "print(f\"\\nAfter:\\n{b}\")"
   ]
  },
  {
   "cell_type": "code",
   "execution_count": 8,
   "id": "e725360b-c014-4b5f-b576-7e62c465a20b",
   "metadata": {},
   "outputs": [
    {
     "data": {
      "text/html": [
       "<div>\n",
       "<style scoped>\n",
       "    .dataframe tbody tr th:only-of-type {\n",
       "        vertical-align: middle;\n",
       "    }\n",
       "\n",
       "    .dataframe tbody tr th {\n",
       "        vertical-align: top;\n",
       "    }\n",
       "\n",
       "    .dataframe thead th {\n",
       "        text-align: right;\n",
       "    }\n",
       "</style>\n",
       "<table border=\"1\" class=\"dataframe\">\n",
       "  <thead>\n",
       "    <tr style=\"text-align: right;\">\n",
       "      <th></th>\n",
       "      <th>title</th>\n",
       "      <th>sent</th>\n",
       "    </tr>\n",
       "  </thead>\n",
       "  <tbody>\n",
       "    <tr>\n",
       "      <th>0</th>\n",
       "      <td>Crabtree &amp;amp; Evelyn - Gardener's Ultra-Moist...</td>\n",
       "      <td>After a long day of handling thorny situations...</td>\n",
       "    </tr>\n",
       "    <tr>\n",
       "      <th>1</th>\n",
       "      <td>AHAVA Bath Salts</td>\n",
       "      <td>If you haven't experienced the pleasures of ba...</td>\n",
       "    </tr>\n",
       "    <tr>\n",
       "      <th>2</th>\n",
       "      <td>AHAVA Dead Sea Mineral Mud, 8.5 oz, Pack of 4</td>\n",
       "      <td>Rich, black mineral mud, harvested from the ba...</td>\n",
       "    </tr>\n",
       "    <tr>\n",
       "      <th>3</th>\n",
       "      <td>Crabtree &amp;amp; Evelyn Hand Soap, Gardeners, 10...</td>\n",
       "      <td>This liquid soap with convenient pump dispense...</td>\n",
       "    </tr>\n",
       "    <tr>\n",
       "      <th>4</th>\n",
       "      <td>Soy Milk Hand Crme</td>\n",
       "      <td>Remember why you love your favorite blanket? T...</td>\n",
       "    </tr>\n",
       "  </tbody>\n",
       "</table>\n",
       "</div>"
      ],
      "text/plain": [
       "                                               title  \\\n",
       "0  Crabtree &amp; Evelyn - Gardener's Ultra-Moist...   \n",
       "1                                   AHAVA Bath Salts   \n",
       "2      AHAVA Dead Sea Mineral Mud, 8.5 oz, Pack of 4   \n",
       "3  Crabtree &amp; Evelyn Hand Soap, Gardeners, 10...   \n",
       "4                                 Soy Milk Hand Crme   \n",
       "\n",
       "                                                sent  \n",
       "0  After a long day of handling thorny situations...  \n",
       "1  If you haven't experienced the pleasures of ba...  \n",
       "2  Rich, black mineral mud, harvested from the ba...  \n",
       "3  This liquid soap with convenient pump dispense...  \n",
       "4  Remember why you love your favorite blanket? T...  "
      ]
     },
     "execution_count": 8,
     "metadata": {},
     "output_type": "execute_result"
    }
   ],
   "source": [
    "# Rename columns to the format expected by our CustomDataset\n",
    "df_flanT5 = df.rename({'description': 'sent'}, axis='columns')\n",
    "df_flanT5.head()"
   ]
  },
  {
   "cell_type": "markdown",
   "id": "43f4696a-58b4-47dd-8840-a27633f165df",
   "metadata": {},
   "source": [
    "## Flan-T5 finetuned model"
   ]
  },
  {
   "cell_type": "code",
   "execution_count": 9,
   "id": "310a8f04-dbe9-497a-84b2-f827ae7c2329",
   "metadata": {},
   "outputs": [],
   "source": [
    "import torch\n",
    "from FlanT5 import T5FineTuner, tokenize_dataset"
   ]
  },
  {
   "cell_type": "code",
   "execution_count": 10,
   "id": "448b2224-aaed-475f-a2b7-0fb6a9bbb559",
   "metadata": {},
   "outputs": [
    {
     "name": "stdout",
     "output_type": "stream",
     "text": [
      "dict_keys(['epoch', 'global_step', 'pytorch-lightning_version', 'state_dict', 'loops', 'callbacks', 'optimizer_states', 'lr_schedulers', 'hparams_name', 'hyper_parameters'])\n"
     ]
    },
    {
     "name": "stderr",
     "output_type": "stream",
     "text": [
      "C:\\Users\\lawfu\\AppData\\Local\\Programs\\Python\\Python39\\lib\\site-packages\\transformers\\tokenization_utils_base.py:1601: FutureWarning: `clean_up_tokenization_spaces` was not set. It will be set to `True` by default. This behavior will be depracted in transformers v4.45, and will be then set to `False` by default. For more details check this issue: https://github.com/huggingface/transformers/issues/31884\n",
      "  warnings.warn(\n"
     ]
    },
    {
     "name": "stdout",
     "output_type": "stream",
     "text": [
      "Done\n"
     ]
    }
   ],
   "source": [
    "CKPT_PATH = None\n",
    "CKPT_PATH = \"epoch=3-step=2072-train_loss=0.35.ckpt\"\n",
    "#CKPT_PATH = \"lightning_logs/version_34/epoch=3-step=2072-train_loss=0.35.ckpt\"\n",
    "#CKPT_PATH = \"lightning_logs/version_30/final.ckpt\"\n",
    "\n",
    "checkpoint = torch.load(CKPT_PATH)\n",
    "print(checkpoint.keys())\n",
    "\n",
    "llm = T5FineTuner.load_from_checkpoint(CKPT_PATH)\n",
    "\n",
    "llm.model.eval() # set model to evaluation mode\n",
    "llm = llm.to(\"cpu\") # use CPU since I don't have GPU\n",
    "print(\"Done\")"
   ]
  },
  {
   "cell_type": "code",
   "execution_count": 25,
   "id": "d94be36a-a75b-4c21-995b-5b2460603e6f",
   "metadata": {},
   "outputs": [
    {
     "name": "stdout",
     "output_type": "stream",
     "text": [
      "Loaded CustomDataset\n",
      "Total seen: 12299"
     ]
    }
   ],
   "source": [
    "# prompt Flan-T5\n",
    "from torch.utils.data import DataLoader\n",
    "from CustomDataset import CustomDataset\n",
    "from transformers import (\n",
    "    AutoTokenizer\n",
    ")\n",
    "import textwrap\n",
    "\n",
    "BATCH_SIZE = 5\n",
    "BATCH_LIMIT = 0 # set to 0 to look at everything\n",
    "\n",
    "# T5 Tokenizer\n",
    "tokenizer = AutoTokenizer.from_pretrained('google/flan-t5-small')\n",
    "dataset = CustomDataset(tokenizer=tokenizer, dataset=df_flanT5, type_path='test')\n",
    "print(\"Loaded CustomDataset\")\n",
    "\n",
    "outputs = []\n",
    "texts = []\n",
    "\n",
    "dataloader = DataLoader(dataset, batch_size=BATCH_SIZE, num_workers=2, shuffle=False)\n",
    "batch_num = 0\n",
    "for batch in dataloader:\n",
    "    if (BATCH_LIMIT != 0) and (batch_num >= BATCH_LIMIT):\n",
    "        break\n",
    "\n",
    "    print_debug(f\"\\nBatch {batch_num}/{BATCH_LIMIT} (batch size: {BATCH_SIZE})\\n\")\n",
    "    # run model with input\n",
    "    outs = llm.model.generate(input_ids=batch['source_ids'],\n",
    "                                attention_mask=batch['source_mask'])\n",
    "\n",
    "    # decode and print output\n",
    "    dec = [tokenizer.decode(ids, skip_special_tokens=True, clean_up_tokenization_spaces=False).strip() for ids in outs]\n",
    "    text = [tokenizer.decode(ids, skip_special_tokens=True, clean_up_tokenization_spaces=False).strip() for ids in batch[\"source_ids\"]]\n",
    "    texts.extend(text)\n",
    "    outputs.extend(dec)\n",
    "\n",
    "    printout = f\"Total seen: {len(texts)}\"\n",
    "    if not DEBUG:\n",
    "        print(\"\\r\" + printout, end=\"\") # overwrite same line\n",
    "    print_debug(printout)\n",
    "    \n",
    "    # pretty print results for debugging\n",
    "    if DEBUG:\n",
    "        i = 0\n",
    "        for i in range(BATCH_SIZE):\n",
    "            next_index = len(texts)-BATCH_SIZE+i\n",
    "            input_lines = textwrap.wrap(f\"text:\\n{texts[next_index]}\\n\", width=100)\n",
    "            output_lines = outputs[next_index]\n",
    "\n",
    "            print(f\"i: {i}, next_index: {next_index}, input length: {len(texts[next_index])}\\n\")\n",
    "            print(\"\\n\".join(input_lines))\n",
    "            print(f\"Predicted Entities: {output_lines}\\n\")\n",
    "\n",
    "    batch_num = batch_num + 1"
   ]
  },
  {
   "cell_type": "code",
   "execution_count": 26,
   "id": "d8fb67e7-c760-41b8-9e5b-8f6da89cf37a",
   "metadata": {},
   "outputs": [
    {
     "data": {
      "text/html": [
       "<div>\n",
       "<style scoped>\n",
       "    .dataframe tbody tr th:only-of-type {\n",
       "        vertical-align: middle;\n",
       "    }\n",
       "\n",
       "    .dataframe tbody tr th {\n",
       "        vertical-align: top;\n",
       "    }\n",
       "\n",
       "    .dataframe thead th {\n",
       "        text-align: right;\n",
       "    }\n",
       "</style>\n",
       "<table border=\"1\" class=\"dataframe\">\n",
       "  <thead>\n",
       "    <tr style=\"text-align: right;\">\n",
       "      <th></th>\n",
       "      <th>input</th>\n",
       "      <th>output</th>\n",
       "    </tr>\n",
       "  </thead>\n",
       "  <tbody>\n",
       "    <tr>\n",
       "      <th>0</th>\n",
       "      <td>after a long day of handling thorny situations...</td>\n",
       "      <td>creator: john evelyn</td>\n",
       "    </tr>\n",
       "    <tr>\n",
       "      <th>1</th>\n",
       "      <td>if you haven't experienced the pleasures of ba...</td>\n",
       "      <td>bath crystals</td>\n",
       "    </tr>\n",
       "    <tr>\n",
       "      <th>2</th>\n",
       "      <td>rich, black mineral mud, harvested from the ba...</td>\n",
       "      <td>mineral mud</td>\n",
       "    </tr>\n",
       "    <tr>\n",
       "      <th>3</th>\n",
       "      <td>this liquid soap with convenient pump dispense...</td>\n",
       "      <td>cultivated by: gardeners</td>\n",
       "    </tr>\n",
       "    <tr>\n",
       "      <th>4</th>\n",
       "      <td>remember why you love your favorite blanket? t...</td>\n",
       "      <td>oat protein blend: oat protein</td>\n",
       "    </tr>\n",
       "  </tbody>\n",
       "</table>\n",
       "</div>"
      ],
      "text/plain": [
       "                                               input  \\\n",
       "0  after a long day of handling thorny situations...   \n",
       "1  if you haven't experienced the pleasures of ba...   \n",
       "2  rich, black mineral mud, harvested from the ba...   \n",
       "3  this liquid soap with convenient pump dispense...   \n",
       "4  remember why you love your favorite blanket? t...   \n",
       "\n",
       "                           output  \n",
       "0            creator: john evelyn  \n",
       "1                   bath crystals  \n",
       "2                     mineral mud  \n",
       "3        cultivated by: gardeners  \n",
       "4  oat protein blend: oat protein  "
      ]
     },
     "execution_count": 26,
     "metadata": {},
     "output_type": "execute_result"
    }
   ],
   "source": [
    "testrun_df = pd.DataFrame({\"input\": texts, \"output\": outputs})\n",
    "testrun_df.head()"
   ]
  },
  {
   "cell_type": "code",
   "execution_count": null,
   "id": "079935c1-70f2-4446-a67c-44d52d764ead",
   "metadata": {},
   "outputs": [],
   "source": [
    "file_name = \"sample_data_model_output.csv\"\n",
    "testrun_df.to_csv(file_name)\n",
    "print(f\"Wrote to file at {file_name}\")"
   ]
  },
  {
   "cell_type": "markdown",
   "id": "2af709b1-70d0-40dc-b68d-d618b04cdd34",
   "metadata": {},
   "source": [
    "# Model Evaluation"
   ]
  },
  {
   "cell_type": "markdown",
   "id": "cf4e9e04-fb07-4367-846f-d5c80be5f84f",
   "metadata": {},
   "source": [
    "## Evaluation 1/2"
   ]
  },
  {
   "cell_type": "markdown",
   "id": "23e04044-ed60-4ad9-b095-e3d7467ca38a",
   "metadata": {
    "jp-MarkdownHeadingCollapsed": true
   },
   "source": [
    "### Load Results From File"
   ]
  },
  {
   "cell_type": "code",
   "execution_count": 74,
   "id": "713152b8-fbc2-40f2-8b47-16fc9b00cb59",
   "metadata": {},
   "outputs": [
    {
     "data": {
      "text/html": [
       "<div>\n",
       "<style scoped>\n",
       "    .dataframe tbody tr th:only-of-type {\n",
       "        vertical-align: middle;\n",
       "    }\n",
       "\n",
       "    .dataframe tbody tr th {\n",
       "        vertical-align: top;\n",
       "    }\n",
       "\n",
       "    .dataframe thead th {\n",
       "        text-align: right;\n",
       "    }\n",
       "</style>\n",
       "<table border=\"1\" class=\"dataframe\">\n",
       "  <thead>\n",
       "    <tr style=\"text-align: right;\">\n",
       "      <th></th>\n",
       "      <th>Unnamed: 0</th>\n",
       "      <th>input</th>\n",
       "      <th>output</th>\n",
       "    </tr>\n",
       "  </thead>\n",
       "  <tbody>\n",
       "    <tr>\n",
       "      <th>0</th>\n",
       "      <td>0</td>\n",
       "      <td>after a long day of handling thorny situations...</td>\n",
       "      <td>creator: john evelyn</td>\n",
       "    </tr>\n",
       "    <tr>\n",
       "      <th>1</th>\n",
       "      <td>1</td>\n",
       "      <td>if you haven't experienced the pleasures of ba...</td>\n",
       "      <td>bath crystals</td>\n",
       "    </tr>\n",
       "    <tr>\n",
       "      <th>2</th>\n",
       "      <td>2</td>\n",
       "      <td>rich, black mineral mud, harvested from the ba...</td>\n",
       "      <td>mineral mud</td>\n",
       "    </tr>\n",
       "    <tr>\n",
       "      <th>3</th>\n",
       "      <td>3</td>\n",
       "      <td>this liquid soap with convenient pump dispense...</td>\n",
       "      <td>cultivated by: gardeners</td>\n",
       "    </tr>\n",
       "    <tr>\n",
       "      <th>4</th>\n",
       "      <td>4</td>\n",
       "      <td>remember why you love your favorite blanket? t...</td>\n",
       "      <td>oat protein blend: oat protein</td>\n",
       "    </tr>\n",
       "  </tbody>\n",
       "</table>\n",
       "</div>"
      ],
      "text/plain": [
       "   Unnamed: 0                                              input  \\\n",
       "0           0  after a long day of handling thorny situations...   \n",
       "1           1  if you haven't experienced the pleasures of ba...   \n",
       "2           2  rich, black mineral mud, harvested from the ba...   \n",
       "3           3  this liquid soap with convenient pump dispense...   \n",
       "4           4  remember why you love your favorite blanket? t...   \n",
       "\n",
       "                           output  \n",
       "0            creator: john evelyn  \n",
       "1                   bath crystals  \n",
       "2                     mineral mud  \n",
       "3        cultivated by: gardeners  \n",
       "4  oat protein blend: oat protein  "
      ]
     },
     "execution_count": 74,
     "metadata": {},
     "output_type": "execute_result"
    }
   ],
   "source": [
    "file_name = \"sample_data_model_output.csv\"\n",
    "results_df = pd.read_csv(file_name)\n",
    "results_df.head()"
   ]
  },
  {
   "cell_type": "code",
   "execution_count": 75,
   "id": "e7770765-0e8c-409e-9f45-31e4e3e7e2a6",
   "metadata": {},
   "outputs": [
    {
     "name": "stdout",
     "output_type": "stream",
     "text": [
      "creator: john evelyn \n",
      " after a long day of handling thorny situations, our new hand therapy pump is just the help you need. it contains shea butter as well as extracts of yarrow, clover and calendula to help soothe and condition work-roughened hands.by crabtree & evelynthe aromatic benefits of herbs are varied and far-reaching, so we combined a whole bunch of them into one restoratively fragrant line-up straight from the garden.we&#039;ve formulated our gardeners hand therapy with myrrh extract to help condition nails and cuticles as well as skin super hydrators macadamia seed oil and shea butter to help replenish lost moisture. rich in herbal extracts like cooling cucumber and rosemary leaf a favourite for antioxidants to help protect hands against daily urban and environmental stresses while the hydrating power of vitamin e, hyaluronic acid and ceramides contribute to improve the skins natural moisture barrier with this garden-inspired treatment. skin is left silky-soft and delicately scented.how to use:dab a pea-sized amount to palms and work over skin and nails. combine with gardeners hand wash and hand scrub to get silky skin in three herb-infused steps.originally created to appeal to a horticulturists wealth of knowledge about the healing power of herbs, this botanical range is formulated with cleansing cucumber extract, purifying rosemary extract, oak moss and refreshing sage extract.we search the world for natural ingredients and fragrance journeys that enable our customers to live a life cultivated. inspired by the crabapple tree, the original species from which all cultivated apple trees have derived, and john evelyn, the 17th century renaissance englishman whose motto explore everything. keep the best has provided inspiration from our founding to this day.\n"
     ]
    }
   ],
   "source": [
    "generated = results_df[\"output\"]\n",
    "source = results_df[\"input\"]\n",
    "\n",
    "print(f\"{generated[0]} \\n {source[0]}\")"
   ]
  },
  {
   "cell_type": "markdown",
   "id": "312ad2c9-4c4f-4bcd-8065-7d7131685eb0",
   "metadata": {
    "jp-MarkdownHeadingCollapsed": true
   },
   "source": [
    "### ROUGE\n",
    "Recall-Oriented Understudy for Gisting Evaluation"
   ]
  },
  {
   "cell_type": "code",
   "execution_count": 5,
   "id": "08fb0e38-e2d0-41ba-9ad0-9c561860f18d",
   "metadata": {},
   "outputs": [],
   "source": [
    "from rouge import Rouge \n",
    "rouge = Rouge()"
   ]
  },
  {
   "cell_type": "code",
   "execution_count": 6,
   "id": "39fce803-c951-4843-9f95-5a4971238128",
   "metadata": {},
   "outputs": [
    {
     "name": "stdout",
     "output_type": "stream",
     "text": [
      "[{'rouge-1': {'r': 0.005434782608695652, 'p': 0.3333333333333333, 'f': 0.01069518685006721}, 'rouge-2': {'r': 0.0, 'p': 0.0, 'f': 0.0}, 'rouge-l': {'r': 0.005434782608695652, 'p': 0.3333333333333333, 'f': 0.01069518685006721}}]\n"
     ]
    }
   ],
   "source": [
    "scores = rouge.get_scores(generated[0], source[0])\n",
    "print(scores)"
   ]
  },
  {
   "cell_type": "markdown",
   "id": "7449479b-d764-47b6-9541-18bbba490fb8",
   "metadata": {
    "jp-MarkdownHeadingCollapsed": true
   },
   "source": [
    "### BLEU\n",
    "Bilingual Evaluation Understudy"
   ]
  },
  {
   "cell_type": "code",
   "execution_count": 7,
   "id": "7dc75174-bb93-4529-8335-ef5c9dec4d17",
   "metadata": {},
   "outputs": [
    {
     "name": "stderr",
     "output_type": "stream",
     "text": [
      "[nltk_data] Downloading package punkt_tab to\n",
      "[nltk_data]     C:\\Users\\lawfu\\AppData\\Roaming\\nltk_data...\n",
      "[nltk_data]   Package punkt_tab is already up-to-date!\n"
     ]
    }
   ],
   "source": [
    "# needed for word_tokennize\n",
    "import nltk\n",
    "nltk.download('punkt_tab')\n",
    "# for bleu\n",
    "from nltk.translate.bleu_score import sentence_bleu\n",
    "from nltk import word_tokenize"
   ]
  },
  {
   "cell_type": "code",
   "execution_count": 33,
   "id": "b087d6a6-9821-4a9f-83ec-6253b79f7c40",
   "metadata": {},
   "outputs": [
    {
     "name": "stdout",
     "output_type": "stream",
     "text": [
      "12298\n"
     ]
    }
   ],
   "source": [
    "scores = []\n",
    "for i in range(0,len(generated)-1):\n",
    "    g = generated[i]\n",
    "    s = source[i]\n",
    "    print_debug(f\"i: {i}\\ng {type(g)}\\ns: {s}\\n\")\n",
    "    if g and s:\n",
    "        sc = sentence_bleu(word_tokenize(str(generated[i])), word_tokenize(str(source[i])))\n",
    "        print_debug(f\"score: {sc}\")\n",
    "        scores.extend([sc])\n",
    "print(len(scores))"
   ]
  },
  {
   "cell_type": "code",
   "execution_count": 35,
   "id": "b686f3fb-2961-4e0f-b9f5-d3062b032a7c",
   "metadata": {},
   "outputs": [
    {
     "name": "stdout",
     "output_type": "stream",
     "text": [
      "BLEU: 5.780504045619045e-232\n"
     ]
    }
   ],
   "source": [
    "print(f\"BLEU: {scores[0]}\")"
   ]
  },
  {
   "cell_type": "markdown",
   "id": "27bb48d7-137f-442a-af9e-c8c06e2e1cda",
   "metadata": {},
   "source": [
    "Calculate the average BLEU score"
   ]
  },
  {
   "cell_type": "code",
   "execution_count": 49,
   "id": "b80a3f3d-2c96-494e-b824-877baad3742a",
   "metadata": {},
   "outputs": [
    {
     "name": "stdout",
     "output_type": "stream",
     "text": [
      "5.244084662212273e-159/2.9416364921081275e-155\n"
     ]
    }
   ],
   "source": [
    "import numpy as np\n",
    "\n",
    "np_scores = np.array(scores)\n",
    "avg = np_scores.mean()\n",
    "maximum = np_scores.max()\n",
    "print(f\"{avg}/{maximum}\")\n",
    "\n",
    "percents = np_scores / maximum"
   ]
  },
  {
   "cell_type": "code",
   "execution_count": 51,
   "id": "4fbc7a82-819d-4586-a4dc-8ac527103c8a",
   "metadata": {},
   "outputs": [
    {
     "data": {
      "text/plain": [
       "[<matplotlib.lines.Line2D at 0x286e7d77c40>]"
      ]
     },
     "execution_count": 51,
     "metadata": {},
     "output_type": "execute_result"
    },
    {
     "data": {
      "image/png": "[encoded data removed]",
      "text/plain": [
       "<Figure size 640x480 with 1 Axes>"
      ]
     },
     "metadata": {},
     "output_type": "display_data"
    }
   ],
   "source": [
    "import matplotlib.pyplot as plt\n",
    "\n",
    "plt.plot(percents)"
   ]
  },
  {
   "cell_type": "markdown",
   "id": "fcd9d228-59e2-4dd5-9ade-265ab2c4205d",
   "metadata": {},
   "source": [
    "## Evaluation 2/2"
   ]
  },
  {
   "cell_type": "markdown",
   "id": "7024f389-bef7-4212-97f7-167088258762",
   "metadata": {},
   "source": [
    "### Manual Labelling for Classification"
   ]
  },
  {
   "cell_type": "code",
   "execution_count": 76,
   "id": "79724d54-8edc-49d0-9624-fb764af1fff7",
   "metadata": {},
   "outputs": [
    {
     "data": {
      "text/html": [
       "<div>\n",
       "<style scoped>\n",
       "    .dataframe tbody tr th:only-of-type {\n",
       "        vertical-align: middle;\n",
       "    }\n",
       "\n",
       "    .dataframe tbody tr th {\n",
       "        vertical-align: top;\n",
       "    }\n",
       "\n",
       "    .dataframe thead th {\n",
       "        text-align: right;\n",
       "    }\n",
       "</style>\n",
       "<table border=\"1\" class=\"dataframe\">\n",
       "  <thead>\n",
       "    <tr style=\"text-align: right;\">\n",
       "      <th></th>\n",
       "      <th>Unnamed: 0</th>\n",
       "      <th>input</th>\n",
       "      <th>output</th>\n",
       "      <th>pre</th>\n",
       "      <th>post</th>\n",
       "    </tr>\n",
       "  </thead>\n",
       "  <tbody>\n",
       "    <tr>\n",
       "      <th>0</th>\n",
       "      <td>0</td>\n",
       "      <td>after a long day of handling thorny situations...</td>\n",
       "      <td>creator: john evelyn</td>\n",
       "      <td>creator</td>\n",
       "      <td>john evelyn</td>\n",
       "    </tr>\n",
       "    <tr>\n",
       "      <th>1</th>\n",
       "      <td>1</td>\n",
       "      <td>if you haven't experienced the pleasures of ba...</td>\n",
       "      <td>bath crystals</td>\n",
       "      <td>bath crystals</td>\n",
       "      <td>bath crystals</td>\n",
       "    </tr>\n",
       "    <tr>\n",
       "      <th>2</th>\n",
       "      <td>2</td>\n",
       "      <td>rich, black mineral mud, harvested from the ba...</td>\n",
       "      <td>mineral mud</td>\n",
       "      <td>mineral mud</td>\n",
       "      <td>mineral mud</td>\n",
       "    </tr>\n",
       "    <tr>\n",
       "      <th>3</th>\n",
       "      <td>3</td>\n",
       "      <td>this liquid soap with convenient pump dispense...</td>\n",
       "      <td>cultivated by: gardeners</td>\n",
       "      <td>cultivated by</td>\n",
       "      <td>gardeners</td>\n",
       "    </tr>\n",
       "    <tr>\n",
       "      <th>4</th>\n",
       "      <td>4</td>\n",
       "      <td>remember why you love your favorite blanket? t...</td>\n",
       "      <td>oat protein blend: oat protein</td>\n",
       "      <td>oat protein blend</td>\n",
       "      <td>oat protein</td>\n",
       "    </tr>\n",
       "  </tbody>\n",
       "</table>\n",
       "</div>"
      ],
      "text/plain": [
       "   Unnamed: 0                                              input  \\\n",
       "0           0  after a long day of handling thorny situations...   \n",
       "1           1  if you haven't experienced the pleasures of ba...   \n",
       "2           2  rich, black mineral mud, harvested from the ba...   \n",
       "3           3  this liquid soap with convenient pump dispense...   \n",
       "4           4  remember why you love your favorite blanket? t...   \n",
       "\n",
       "                           output                pre           post  \n",
       "0            creator: john evelyn            creator    john evelyn  \n",
       "1                   bath crystals      bath crystals  bath crystals  \n",
       "2                     mineral mud        mineral mud    mineral mud  \n",
       "3        cultivated by: gardeners      cultivated by      gardeners  \n",
       "4  oat protein blend: oat protein  oat protein blend    oat protein  "
      ]
     },
     "execution_count": 76,
     "metadata": {},
     "output_type": "execute_result"
    }
   ],
   "source": [
    "results_df['pre'] = results_df['output'].apply(lambda x: str(x).split(':')[0])\n",
    "results_df['post'] = results_df['output'].apply(lambda x: str(x).split(':')[-1])\n",
    "results_df.head()"
   ]
  },
  {
   "cell_type": "markdown",
   "id": "6b011e89-671c-4e40-8a4f-4d6c14170ab6",
   "metadata": {},
   "source": [
    "Mark some obviously incorrect answers so I can manually label them.\n",
    "\n",
    "Automatically mark any output that isn't formatted correctly (e.g. one that is missing a colon, meaning it failed to present either a class or an instance) as False.\n",
    "\n",
    "An answer is evaluated to be incorrect if\n",
    "\n",
    "* the output is in the incorrect format\n",
    "* the output is missing a class for the instance\n",
    "* the output is missing an instance for the identified class\n",
    "* the identified class (e.g., creator) is incorrect for the identified instance from the text (e.g. john evelyn).\n",
    "* the identified instance is not present in the text\n",
    "\n",
    "This handles:\n",
    "* incorrect format\n",
    "* missing class\n",
    "* missing instance"
   ]
  },
  {
   "cell_type": "code",
   "execution_count": 77,
   "id": "fa47295e-95b3-4271-8e14-b6f07baf79f2",
   "metadata": {},
   "outputs": [
    {
     "data": {
      "text/html": [
       "<div>\n",
       "<style scoped>\n",
       "    .dataframe tbody tr th:only-of-type {\n",
       "        vertical-align: middle;\n",
       "    }\n",
       "\n",
       "    .dataframe tbody tr th {\n",
       "        vertical-align: top;\n",
       "    }\n",
       "\n",
       "    .dataframe thead th {\n",
       "        text-align: right;\n",
       "    }\n",
       "</style>\n",
       "<table border=\"1\" class=\"dataframe\">\n",
       "  <thead>\n",
       "    <tr style=\"text-align: right;\">\n",
       "      <th></th>\n",
       "      <th>Unnamed: 0</th>\n",
       "      <th>input</th>\n",
       "      <th>output</th>\n",
       "      <th>pre</th>\n",
       "      <th>post</th>\n",
       "      <th>result</th>\n",
       "    </tr>\n",
       "  </thead>\n",
       "  <tbody>\n",
       "    <tr>\n",
       "      <th>0</th>\n",
       "      <td>0</td>\n",
       "      <td>after a long day of handling thorny situations...</td>\n",
       "      <td>creator: john evelyn</td>\n",
       "      <td>creator</td>\n",
       "      <td>john evelyn</td>\n",
       "      <td></td>\n",
       "    </tr>\n",
       "    <tr>\n",
       "      <th>1</th>\n",
       "      <td>1</td>\n",
       "      <td>if you haven't experienced the pleasures of ba...</td>\n",
       "      <td>bath crystals</td>\n",
       "      <td>bath crystals</td>\n",
       "      <td>bath crystals</td>\n",
       "      <td>False</td>\n",
       "    </tr>\n",
       "    <tr>\n",
       "      <th>2</th>\n",
       "      <td>2</td>\n",
       "      <td>rich, black mineral mud, harvested from the ba...</td>\n",
       "      <td>mineral mud</td>\n",
       "      <td>mineral mud</td>\n",
       "      <td>mineral mud</td>\n",
       "      <td>False</td>\n",
       "    </tr>\n",
       "    <tr>\n",
       "      <th>3</th>\n",
       "      <td>3</td>\n",
       "      <td>this liquid soap with convenient pump dispense...</td>\n",
       "      <td>cultivated by: gardeners</td>\n",
       "      <td>cultivated by</td>\n",
       "      <td>gardeners</td>\n",
       "      <td></td>\n",
       "    </tr>\n",
       "    <tr>\n",
       "      <th>4</th>\n",
       "      <td>4</td>\n",
       "      <td>remember why you love your favorite blanket? t...</td>\n",
       "      <td>oat protein blend: oat protein</td>\n",
       "      <td>oat protein blend</td>\n",
       "      <td>oat protein</td>\n",
       "      <td></td>\n",
       "    </tr>\n",
       "  </tbody>\n",
       "</table>\n",
       "</div>"
      ],
      "text/plain": [
       "   Unnamed: 0                                              input  \\\n",
       "0           0  after a long day of handling thorny situations...   \n",
       "1           1  if you haven't experienced the pleasures of ba...   \n",
       "2           2  rich, black mineral mud, harvested from the ba...   \n",
       "3           3  this liquid soap with convenient pump dispense...   \n",
       "4           4  remember why you love your favorite blanket? t...   \n",
       "\n",
       "                           output                pre           post result  \n",
       "0            creator: john evelyn            creator    john evelyn         \n",
       "1                   bath crystals      bath crystals  bath crystals  False  \n",
       "2                     mineral mud        mineral mud    mineral mud  False  \n",
       "3        cultivated by: gardeners      cultivated by      gardeners         \n",
       "4  oat protein blend: oat protein  oat protein blend    oat protein         "
      ]
     },
     "execution_count": 77,
     "metadata": {},
     "output_type": "execute_result"
    }
   ],
   "source": [
    "results_df['result'] = results_df['output'].apply(lambda x: False if ':' not in str(x) else '')\n",
    "results_df.head()"
   ]
  },
  {
   "cell_type": "code",
   "execution_count": 78,
   "id": "3034e7fb-116e-408d-9129-85eecbfcabe7",
   "metadata": {},
   "outputs": [
    {
     "name": "stdout",
     "output_type": "stream",
     "text": [
      "12299 -> 12093\n"
     ]
    },
    {
     "data": {
      "text/html": [
       "<div>\n",
       "<style scoped>\n",
       "    .dataframe tbody tr th:only-of-type {\n",
       "        vertical-align: middle;\n",
       "    }\n",
       "\n",
       "    .dataframe tbody tr th {\n",
       "        vertical-align: top;\n",
       "    }\n",
       "\n",
       "    .dataframe thead th {\n",
       "        text-align: right;\n",
       "    }\n",
       "</style>\n",
       "<table border=\"1\" class=\"dataframe\">\n",
       "  <thead>\n",
       "    <tr style=\"text-align: right;\">\n",
       "      <th></th>\n",
       "      <th>Unnamed: 0</th>\n",
       "      <th>input</th>\n",
       "      <th>output</th>\n",
       "      <th>pre</th>\n",
       "      <th>post</th>\n",
       "      <th>result</th>\n",
       "    </tr>\n",
       "  </thead>\n",
       "  <tbody>\n",
       "    <tr>\n",
       "      <th>0</th>\n",
       "      <td>0</td>\n",
       "      <td>after a long day of handling thorny situations...</td>\n",
       "      <td>creator: john evelyn</td>\n",
       "      <td>creator</td>\n",
       "      <td>john evelyn</td>\n",
       "      <td></td>\n",
       "    </tr>\n",
       "    <tr>\n",
       "      <th>1</th>\n",
       "      <td>1</td>\n",
       "      <td>if you haven't experienced the pleasures of ba...</td>\n",
       "      <td>bath crystals</td>\n",
       "      <td>bath crystals</td>\n",
       "      <td>bath crystals</td>\n",
       "      <td>False</td>\n",
       "    </tr>\n",
       "    <tr>\n",
       "      <th>2</th>\n",
       "      <td>2</td>\n",
       "      <td>rich, black mineral mud, harvested from the ba...</td>\n",
       "      <td>mineral mud</td>\n",
       "      <td>mineral mud</td>\n",
       "      <td>mineral mud</td>\n",
       "      <td>False</td>\n",
       "    </tr>\n",
       "    <tr>\n",
       "      <th>3</th>\n",
       "      <td>3</td>\n",
       "      <td>this liquid soap with convenient pump dispense...</td>\n",
       "      <td>cultivated by: gardeners</td>\n",
       "      <td>cultivated by</td>\n",
       "      <td>gardeners</td>\n",
       "      <td></td>\n",
       "    </tr>\n",
       "    <tr>\n",
       "      <th>4</th>\n",
       "      <td>4</td>\n",
       "      <td>remember why you love your favorite blanket? t...</td>\n",
       "      <td>oat protein blend: oat protein</td>\n",
       "      <td>oat protein blend</td>\n",
       "      <td>oat protein</td>\n",
       "      <td></td>\n",
       "    </tr>\n",
       "  </tbody>\n",
       "</table>\n",
       "</div>"
      ],
      "text/plain": [
       "   Unnamed: 0                                              input  \\\n",
       "0           0  after a long day of handling thorny situations...   \n",
       "1           1  if you haven't experienced the pleasures of ba...   \n",
       "2           2  rich, black mineral mud, harvested from the ba...   \n",
       "3           3  this liquid soap with convenient pump dispense...   \n",
       "4           4  remember why you love your favorite blanket? t...   \n",
       "\n",
       "                           output                pre           post result  \n",
       "0            creator: john evelyn            creator    john evelyn         \n",
       "1                   bath crystals      bath crystals  bath crystals  False  \n",
       "2                     mineral mud        mineral mud    mineral mud  False  \n",
       "3        cultivated by: gardeners      cultivated by      gardeners         \n",
       "4  oat protein blend: oat protein  oat protein blend    oat protein         "
      ]
     },
     "execution_count": 78,
     "metadata": {},
     "output_type": "execute_result"
    }
   ],
   "source": [
    "#results_df['input'].replace('', np.nan, inplace=True)\n",
    "results_df['input'] = results_df['input'].replace('', np.nan)\n",
    "results_df2 = results_df.dropna()\n",
    "print(f\"{len(results_df)} -> {len(results_df2)}\")\n",
    "results_df2.head()"
   ]
  },
  {
   "cell_type": "markdown",
   "id": "55f7f030-39a5-45d6-ba19-7e80d4d2be0a",
   "metadata": {},
   "source": [
    "Write the results to file to perform the rest of the analysis manually."
   ]
  },
  {
   "cell_type": "code",
   "execution_count": 79,
   "id": "df723402-93f1-42a1-a271-2f0f21aa74e6",
   "metadata": {},
   "outputs": [
    {
     "name": "stdout",
     "output_type": "stream",
     "text": [
      "Wrote to file at sample_data_model_output_labelled.csv\n"
     ]
    }
   ],
   "source": [
    "file_name = \"sample_data_model_output_labelled.csv\"\n",
    "results_df.to_csv(file_name)\n",
    "print(f\"Wrote to file at {file_name}\")"
   ]
  },
  {
   "cell_type": "markdown",
   "id": "269669f6-1782-4bc8-807f-2a85df70a83e",
   "metadata": {},
   "source": [
    "### Precision, Recall, F1\n",
    "\n",
    "Precision: how many of the ones labelled as X are correct\n",
    "\n",
    "Recall: how many of the ones that are X were labelled correctly"
   ]
  },
  {
   "cell_type": "code",
   "execution_count": 84,
   "id": "f54c3f21-7ae8-483a-af8b-d221564f18dc",
   "metadata": {},
   "outputs": [
    {
     "data": {
      "text/html": [
       "<div>\n",
       "<style scoped>\n",
       "    .dataframe tbody tr th:only-of-type {\n",
       "        vertical-align: middle;\n",
       "    }\n",
       "\n",
       "    .dataframe tbody tr th {\n",
       "        vertical-align: top;\n",
       "    }\n",
       "\n",
       "    .dataframe thead th {\n",
       "        text-align: right;\n",
       "    }\n",
       "</style>\n",
       "<table border=\"1\" class=\"dataframe\">\n",
       "  <thead>\n",
       "    <tr style=\"text-align: right;\">\n",
       "      <th></th>\n",
       "      <th>Unnamed: 0.1</th>\n",
       "      <th>Unnamed: 0</th>\n",
       "      <th>input</th>\n",
       "      <th>output</th>\n",
       "      <th>pre</th>\n",
       "      <th>pre_correct</th>\n",
       "      <th>post</th>\n",
       "      <th>result</th>\n",
       "      <th>y_ground</th>\n",
       "    </tr>\n",
       "  </thead>\n",
       "  <tbody>\n",
       "    <tr>\n",
       "      <th>0</th>\n",
       "      <td>0</td>\n",
       "      <td>0</td>\n",
       "      <td>after a long day of handling thorny situations...</td>\n",
       "      <td>creator: john evelyn</td>\n",
       "      <td>creator</td>\n",
       "      <td>creator</td>\n",
       "      <td>john evelyn</td>\n",
       "      <td>NaN</td>\n",
       "      <td>creator</td>\n",
       "    </tr>\n",
       "    <tr>\n",
       "      <th>1</th>\n",
       "      <td>1</td>\n",
       "      <td>1</td>\n",
       "      <td>if you haven't experienced the pleasures of ba...</td>\n",
       "      <td>bath crystals</td>\n",
       "      <td>bath crystals</td>\n",
       "      <td>product</td>\n",
       "      <td>bath crystals</td>\n",
       "      <td>False</td>\n",
       "      <td>False</td>\n",
       "    </tr>\n",
       "    <tr>\n",
       "      <th>2</th>\n",
       "      <td>2</td>\n",
       "      <td>2</td>\n",
       "      <td>rich, black mineral mud, harvested from the ba...</td>\n",
       "      <td>mineral mud</td>\n",
       "      <td>mineral mud</td>\n",
       "      <td>product</td>\n",
       "      <td>mineral mud</td>\n",
       "      <td>False</td>\n",
       "      <td>False</td>\n",
       "    </tr>\n",
       "    <tr>\n",
       "      <th>3</th>\n",
       "      <td>3</td>\n",
       "      <td>3</td>\n",
       "      <td>this liquid soap with convenient pump dispense...</td>\n",
       "      <td>cultivated by: gardeners</td>\n",
       "      <td>cultivated by</td>\n",
       "      <td>cultivated by</td>\n",
       "      <td>gardeners</td>\n",
       "      <td>NaN</td>\n",
       "      <td>cultivated by</td>\n",
       "    </tr>\n",
       "    <tr>\n",
       "      <th>4</th>\n",
       "      <td>4</td>\n",
       "      <td>4</td>\n",
       "      <td>remember why you love your favorite blanket? t...</td>\n",
       "      <td>oat protein blend: oat protein</td>\n",
       "      <td>oat protein blend</td>\n",
       "      <td>product</td>\n",
       "      <td>oat protein</td>\n",
       "      <td>False</td>\n",
       "      <td>False</td>\n",
       "    </tr>\n",
       "  </tbody>\n",
       "</table>\n",
       "</div>"
      ],
      "text/plain": [
       "   Unnamed: 0.1  Unnamed: 0  \\\n",
       "0             0           0   \n",
       "1             1           1   \n",
       "2             2           2   \n",
       "3             3           3   \n",
       "4             4           4   \n",
       "\n",
       "                                               input  \\\n",
       "0  after a long day of handling thorny situations...   \n",
       "1  if you haven't experienced the pleasures of ba...   \n",
       "2  rich, black mineral mud, harvested from the ba...   \n",
       "3  this liquid soap with convenient pump dispense...   \n",
       "4  remember why you love your favorite blanket? t...   \n",
       "\n",
       "                           output                pre    pre_correct  \\\n",
       "0            creator: john evelyn            creator        creator   \n",
       "1                   bath crystals      bath crystals        product   \n",
       "2                     mineral mud        mineral mud        product   \n",
       "3        cultivated by: gardeners      cultivated by  cultivated by   \n",
       "4  oat protein blend: oat protein  oat protein blend        product   \n",
       "\n",
       "            post result       y_ground  \n",
       "0    john evelyn    NaN        creator  \n",
       "1  bath crystals  False          False  \n",
       "2    mineral mud  False          False  \n",
       "3      gardeners    NaN  cultivated by  \n",
       "4    oat protein  False          False  "
      ]
     },
     "execution_count": 84,
     "metadata": {},
     "output_type": "execute_result"
    }
   ],
   "source": [
    "import sklearn.metrics\n",
    "\n",
    "file_name = \"sample_data_model_output_labelled_manually.csv\"\n",
    "results_df3 = pd.read_csv(file_name)\n",
    "results_df3.head()"
   ]
  },
  {
   "cell_type": "markdown",
   "id": "c510415b-3758-4e49-a844-6133d0b59384",
   "metadata": {},
   "source": [
    "compare pre to y_ground.\n",
    "\n",
    "pre_correct is the manually-entered."
   ]
  },
  {
   "cell_type": "code",
   "execution_count": 104,
   "id": "8486b3f4-7c82-457b-897c-86fa842e8e84",
   "metadata": {},
   "outputs": [],
   "source": [
    "from sklearn import metrics\n",
    "from sklearn.preprocessing import LabelEncoder as le\n",
    "\n",
    "y_true = results_df3['pre'][0:60].astype(str)\n",
    "y_pred = results_df3['y_ground'][0:60].astype(str)"
   ]
  },
  {
   "cell_type": "code",
   "execution_count": 105,
   "id": "a1e15339-9f35-4980-b97c-b8872087900b",
   "metadata": {},
   "outputs": [
    {
     "name": "stderr",
     "output_type": "stream",
     "text": [
      "C:\\Users\\lawfu\\AppData\\Local\\Programs\\Python\\Python39\\lib\\site-packages\\sklearn\\metrics\\_classification.py:1509: UndefinedMetricWarning: Precision is ill-defined and being set to 0.0 in labels with no predicted samples. Use `zero_division` parameter to control this behavior.\n",
      "  _warn_prf(average, modifier, f\"{metric.capitalize()} is\", len(result))\n"
     ]
    }
   ],
   "source": [
    "precision = metrics.precision_score(y_true, y_pred, average='weighted')"
   ]
  },
  {
   "cell_type": "code",
   "execution_count": 106,
   "id": "482c9f34-e068-4af3-b2b2-632f48f1141b",
   "metadata": {},
   "outputs": [
    {
     "name": "stderr",
     "output_type": "stream",
     "text": [
      "C:\\Users\\lawfu\\AppData\\Local\\Programs\\Python\\Python39\\lib\\site-packages\\sklearn\\metrics\\_classification.py:1509: UndefinedMetricWarning: Recall is ill-defined and being set to 0.0 in labels with no true samples. Use `zero_division` parameter to control this behavior.\n",
      "  _warn_prf(average, modifier, f\"{metric.capitalize()} is\", len(result))\n"
     ]
    }
   ],
   "source": [
    "recall = metrics.recall_score(y_true, y_pred, average='weighted')"
   ]
  },
  {
   "cell_type": "code",
   "execution_count": 107,
   "id": "5f23017a-3410-4c47-9d71-2263c7834897",
   "metadata": {},
   "outputs": [],
   "source": [
    "f1 = metrics.f1_score(y_true, y_pred, average='weighted') #*, labels=None, pos_label=1, average='binary', sample_weight=None, zero_division='warn')"
   ]
  },
  {
   "cell_type": "code",
   "execution_count": 108,
   "id": "ce67d00b-192f-4b71-8bc0-f2d38e0ee9b6",
   "metadata": {},
   "outputs": [
    {
     "name": "stdout",
     "output_type": "stream",
     "text": [
      "0.4666666666666667, 0.3333333333333333, 0.3624074074074074\n"
     ]
    }
   ],
   "source": [
    "print(f\"{precision}, {recall}, {f1}\")"
   ]
  },
  {
   "cell_type": "code",
   "execution_count": null,
   "id": "9bb3748c-76d9-48cf-b30d-fa9748a117ba",
   "metadata": {},
   "outputs": [],
   "source": []
  },
  {
   "cell_type": "code",
   "execution_count": null,
   "id": "3f71410c-64b4-4b67-85dd-3b93d477bc5e",
   "metadata": {},
   "outputs": [],
   "source": []
  }
 ],
 "metadata": {
  "kernelspec": {
   "display_name": "Python 3 (ipykernel)",
   "language": "python",
   "name": "python3"
  },
  "language_info": {
   "codemirror_mode": {
    "name": "ipython",
    "version": 3
   },
   "file_extension": ".py",
   "mimetype": "text/x-python",
   "name": "python",
   "nbconvert_exporter": "python",
   "pygments_lexer": "ipython3",
   "version": "3.9.13"
  }
 },
 "nbformat": 4,
 "nbformat_minor": 5
}
